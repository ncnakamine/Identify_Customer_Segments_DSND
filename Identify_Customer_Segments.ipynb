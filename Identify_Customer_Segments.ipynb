{
 "cells": [
  {
   "cell_type": "markdown",
   "metadata": {},
   "source": [
    "# Project: Identify Customer Segments\n",
    "\n",
    "In this project, you will apply unsupervised learning techniques to identify segments of the population that form the core customer base for a mail-order sales company in Germany. These segments can then be used to direct marketing campaigns towards audiences that will have the highest expected rate of returns. The data that you will use has been provided by our partners at Bertelsmann Arvato Analytics, and represents a real-life data science task.\n",
    "\n",
    "This notebook will help you complete this task by providing a framework within which you will perform your analysis steps. In each step of the project, you will see some text describing the subtask that you will perform, followed by one or more code cells for you to complete your work. **Feel free to add additional code and markdown cells as you go along so that you can explore everything in precise chunks.** The code cells provided in the base template will outline only the major tasks, and will usually not be enough to cover all of the minor tasks that comprise it.\n",
    "\n",
    "It should be noted that while there will be precise guidelines on how you should handle certain tasks in the project, there will also be places where an exact specification is not provided. **There will be times in the project where you will need to make and justify your own decisions on how to treat the data.** These are places where there may not be only one way to handle the data. In real-life tasks, there may be many valid ways to approach an analysis task. One of the most important things you can do is clearly document your approach so that other scientists can understand the decisions you've made.\n",
    "\n",
    "At the end of most sections, there will be a Markdown cell labeled **Discussion**. In these cells, you will report your findings for the completed section, as well as document the decisions that you made in your approach to each subtask. **Your project will be evaluated not just on the code used to complete the tasks outlined, but also your communication about your observations and conclusions at each stage.**"
   ]
  },
  {
   "cell_type": "code",
   "execution_count": 2,
   "metadata": {},
   "outputs": [],
   "source": [
    "# import libraries here; add more as necessary\n",
    "import numpy as np\n",
    "import pandas as pd\n",
    "import matplotlib.pyplot as plt\n",
    "import seaborn as sns\n",
    "import ast\n",
    "from sklearn.preprocessing import Imputer, StandardScaler\n",
    "from sklearn.decomposition import PCA\n",
    "\n",
    "# magic word for producing visualizations in notebook\n",
    "%matplotlib inline\n",
    "\n",
    "\n",
    "\n"
   ]
  },
  {
   "cell_type": "markdown",
   "metadata": {},
   "source": [
    "### Step 0: Load the Data\n",
    "\n",
    "There are four files associated with this project (not including this one):\n",
    "\n",
    "- `Udacity_AZDIAS_Subset.csv`: Demographics data for the general population of Germany; 891211 persons (rows) x 85 features (columns).\n",
    "- `Udacity_CUSTOMERS_Subset.csv`: Demographics data for customers of a mail-order company; 191652 persons (rows) x 85 features (columns).\n",
    "- `Data_Dictionary.md`: Detailed information file about the features in the provided datasets.\n",
    "- `AZDIAS_Feature_Summary.csv`: Summary of feature attributes for demographics data; 85 features (rows) x 4 columns\n",
    "\n",
    "Each row of the demographics files represents a single person, but also includes information outside of individuals, including information about their household, building, and neighborhood. You will use this information to cluster the general population into groups with similar demographic properties. Then, you will see how the people in the customers dataset fit into those created clusters. The hope here is that certain clusters are over-represented in the customers data, as compared to the general population; those over-represented clusters will be assumed to be part of the core userbase. This information can then be used for further applications, such as targeting for a marketing campaign.\n",
    "\n",
    "To start off with, load in the demographics data for the general population into a pandas DataFrame, and do the same for the feature attributes summary. Note for all of the `.csv` data files in this project: they're semicolon (`;`) delimited, so you'll need an additional argument in your [`read_csv()`](https://pandas.pydata.org/pandas-docs/stable/generated/pandas.read_csv.html) call to read in the data properly. Also, considering the size of the main dataset, it may take some time for it to load completely.\n",
    "\n",
    "Once the dataset is loaded, it's recommended that you take a little bit of time just browsing the general structure of the dataset and feature summary file. You'll be getting deep into the innards of the cleaning in the first major step of the project, so gaining some general familiarity can help you get your bearings."
   ]
  },
  {
   "cell_type": "code",
   "execution_count": 3,
   "metadata": {},
   "outputs": [],
   "source": [
    "# Load in the general demographics data.\n",
    "azdias = pd.read_csv('Udacity_AZDIAS_Subset.csv', delimiter=';')\n",
    "# Load in the feature summary file.\n",
    "feat_info = pd.read_csv('AZDIAS_Feature_Summary.csv', delimiter=';')"
   ]
  },
  {
   "cell_type": "code",
   "execution_count": 4,
   "metadata": {},
   "outputs": [],
   "source": [
    "# Check the structure of the data after it's loaded (e.g. print the number of\n",
    "# rows and columns, print the first few rows)."
   ]
  },
  {
   "cell_type": "code",
   "execution_count": 5,
   "metadata": {},
   "outputs": [
    {
     "data": {
      "text/plain": [
       "(891221, 85)"
      ]
     },
     "execution_count": 5,
     "metadata": {},
     "output_type": "execute_result"
    }
   ],
   "source": [
    "azdias.shape"
   ]
  },
  {
   "cell_type": "code",
   "execution_count": 6,
   "metadata": {},
   "outputs": [
    {
     "data": {
      "text/html": [
       "<div>\n",
       "<style scoped>\n",
       "    .dataframe tbody tr th:only-of-type {\n",
       "        vertical-align: middle;\n",
       "    }\n",
       "\n",
       "    .dataframe tbody tr th {\n",
       "        vertical-align: top;\n",
       "    }\n",
       "\n",
       "    .dataframe thead th {\n",
       "        text-align: right;\n",
       "    }\n",
       "</style>\n",
       "<table border=\"1\" class=\"dataframe\">\n",
       "  <thead>\n",
       "    <tr style=\"text-align: right;\">\n",
       "      <th></th>\n",
       "      <th>AGER_TYP</th>\n",
       "      <th>ALTERSKATEGORIE_GROB</th>\n",
       "      <th>ANREDE_KZ</th>\n",
       "      <th>CJT_GESAMTTYP</th>\n",
       "      <th>FINANZ_MINIMALIST</th>\n",
       "      <th>FINANZ_SPARER</th>\n",
       "      <th>FINANZ_VORSORGER</th>\n",
       "      <th>FINANZ_ANLEGER</th>\n",
       "      <th>FINANZ_UNAUFFAELLIGER</th>\n",
       "      <th>FINANZ_HAUSBAUER</th>\n",
       "      <th>...</th>\n",
       "      <th>PLZ8_ANTG1</th>\n",
       "      <th>PLZ8_ANTG2</th>\n",
       "      <th>PLZ8_ANTG3</th>\n",
       "      <th>PLZ8_ANTG4</th>\n",
       "      <th>PLZ8_BAUMAX</th>\n",
       "      <th>PLZ8_HHZ</th>\n",
       "      <th>PLZ8_GBZ</th>\n",
       "      <th>ARBEIT</th>\n",
       "      <th>ORTSGR_KLS9</th>\n",
       "      <th>RELAT_AB</th>\n",
       "    </tr>\n",
       "  </thead>\n",
       "  <tbody>\n",
       "    <tr>\n",
       "      <th>0</th>\n",
       "      <td>-1</td>\n",
       "      <td>2</td>\n",
       "      <td>1</td>\n",
       "      <td>2.0</td>\n",
       "      <td>3</td>\n",
       "      <td>4</td>\n",
       "      <td>3</td>\n",
       "      <td>5</td>\n",
       "      <td>5</td>\n",
       "      <td>3</td>\n",
       "      <td>...</td>\n",
       "      <td>NaN</td>\n",
       "      <td>NaN</td>\n",
       "      <td>NaN</td>\n",
       "      <td>NaN</td>\n",
       "      <td>NaN</td>\n",
       "      <td>NaN</td>\n",
       "      <td>NaN</td>\n",
       "      <td>NaN</td>\n",
       "      <td>NaN</td>\n",
       "      <td>NaN</td>\n",
       "    </tr>\n",
       "    <tr>\n",
       "      <th>1</th>\n",
       "      <td>-1</td>\n",
       "      <td>1</td>\n",
       "      <td>2</td>\n",
       "      <td>5.0</td>\n",
       "      <td>1</td>\n",
       "      <td>5</td>\n",
       "      <td>2</td>\n",
       "      <td>5</td>\n",
       "      <td>4</td>\n",
       "      <td>5</td>\n",
       "      <td>...</td>\n",
       "      <td>2.0</td>\n",
       "      <td>3.0</td>\n",
       "      <td>2.0</td>\n",
       "      <td>1.0</td>\n",
       "      <td>1.0</td>\n",
       "      <td>5.0</td>\n",
       "      <td>4.0</td>\n",
       "      <td>3.0</td>\n",
       "      <td>5.0</td>\n",
       "      <td>4.0</td>\n",
       "    </tr>\n",
       "    <tr>\n",
       "      <th>2</th>\n",
       "      <td>-1</td>\n",
       "      <td>3</td>\n",
       "      <td>2</td>\n",
       "      <td>3.0</td>\n",
       "      <td>1</td>\n",
       "      <td>4</td>\n",
       "      <td>1</td>\n",
       "      <td>2</td>\n",
       "      <td>3</td>\n",
       "      <td>5</td>\n",
       "      <td>...</td>\n",
       "      <td>3.0</td>\n",
       "      <td>3.0</td>\n",
       "      <td>1.0</td>\n",
       "      <td>0.0</td>\n",
       "      <td>1.0</td>\n",
       "      <td>4.0</td>\n",
       "      <td>4.0</td>\n",
       "      <td>3.0</td>\n",
       "      <td>5.0</td>\n",
       "      <td>2.0</td>\n",
       "    </tr>\n",
       "    <tr>\n",
       "      <th>3</th>\n",
       "      <td>2</td>\n",
       "      <td>4</td>\n",
       "      <td>2</td>\n",
       "      <td>2.0</td>\n",
       "      <td>4</td>\n",
       "      <td>2</td>\n",
       "      <td>5</td>\n",
       "      <td>2</td>\n",
       "      <td>1</td>\n",
       "      <td>2</td>\n",
       "      <td>...</td>\n",
       "      <td>2.0</td>\n",
       "      <td>2.0</td>\n",
       "      <td>2.0</td>\n",
       "      <td>0.0</td>\n",
       "      <td>1.0</td>\n",
       "      <td>3.0</td>\n",
       "      <td>4.0</td>\n",
       "      <td>2.0</td>\n",
       "      <td>3.0</td>\n",
       "      <td>3.0</td>\n",
       "    </tr>\n",
       "    <tr>\n",
       "      <th>4</th>\n",
       "      <td>-1</td>\n",
       "      <td>3</td>\n",
       "      <td>1</td>\n",
       "      <td>5.0</td>\n",
       "      <td>4</td>\n",
       "      <td>3</td>\n",
       "      <td>4</td>\n",
       "      <td>1</td>\n",
       "      <td>3</td>\n",
       "      <td>2</td>\n",
       "      <td>...</td>\n",
       "      <td>2.0</td>\n",
       "      <td>4.0</td>\n",
       "      <td>2.0</td>\n",
       "      <td>1.0</td>\n",
       "      <td>2.0</td>\n",
       "      <td>3.0</td>\n",
       "      <td>3.0</td>\n",
       "      <td>4.0</td>\n",
       "      <td>6.0</td>\n",
       "      <td>5.0</td>\n",
       "    </tr>\n",
       "  </tbody>\n",
       "</table>\n",
       "<p>5 rows × 85 columns</p>\n",
       "</div>"
      ],
      "text/plain": [
       "   AGER_TYP  ALTERSKATEGORIE_GROB  ANREDE_KZ  CJT_GESAMTTYP  \\\n",
       "0        -1                     2          1            2.0   \n",
       "1        -1                     1          2            5.0   \n",
       "2        -1                     3          2            3.0   \n",
       "3         2                     4          2            2.0   \n",
       "4        -1                     3          1            5.0   \n",
       "\n",
       "   FINANZ_MINIMALIST  FINANZ_SPARER  FINANZ_VORSORGER  FINANZ_ANLEGER  \\\n",
       "0                  3              4                 3               5   \n",
       "1                  1              5                 2               5   \n",
       "2                  1              4                 1               2   \n",
       "3                  4              2                 5               2   \n",
       "4                  4              3                 4               1   \n",
       "\n",
       "   FINANZ_UNAUFFAELLIGER  FINANZ_HAUSBAUER    ...     PLZ8_ANTG1  PLZ8_ANTG2  \\\n",
       "0                      5                 3    ...            NaN         NaN   \n",
       "1                      4                 5    ...            2.0         3.0   \n",
       "2                      3                 5    ...            3.0         3.0   \n",
       "3                      1                 2    ...            2.0         2.0   \n",
       "4                      3                 2    ...            2.0         4.0   \n",
       "\n",
       "   PLZ8_ANTG3  PLZ8_ANTG4  PLZ8_BAUMAX  PLZ8_HHZ  PLZ8_GBZ  ARBEIT  \\\n",
       "0         NaN         NaN          NaN       NaN       NaN     NaN   \n",
       "1         2.0         1.0          1.0       5.0       4.0     3.0   \n",
       "2         1.0         0.0          1.0       4.0       4.0     3.0   \n",
       "3         2.0         0.0          1.0       3.0       4.0     2.0   \n",
       "4         2.0         1.0          2.0       3.0       3.0     4.0   \n",
       "\n",
       "   ORTSGR_KLS9  RELAT_AB  \n",
       "0          NaN       NaN  \n",
       "1          5.0       4.0  \n",
       "2          5.0       2.0  \n",
       "3          3.0       3.0  \n",
       "4          6.0       5.0  \n",
       "\n",
       "[5 rows x 85 columns]"
      ]
     },
     "execution_count": 6,
     "metadata": {},
     "output_type": "execute_result"
    }
   ],
   "source": [
    "azdias.head()"
   ]
  },
  {
   "cell_type": "code",
   "execution_count": 7,
   "metadata": {},
   "outputs": [
    {
     "data": {
      "text/html": [
       "<div>\n",
       "<style scoped>\n",
       "    .dataframe tbody tr th:only-of-type {\n",
       "        vertical-align: middle;\n",
       "    }\n",
       "\n",
       "    .dataframe tbody tr th {\n",
       "        vertical-align: top;\n",
       "    }\n",
       "\n",
       "    .dataframe thead th {\n",
       "        text-align: right;\n",
       "    }\n",
       "</style>\n",
       "<table border=\"1\" class=\"dataframe\">\n",
       "  <thead>\n",
       "    <tr style=\"text-align: right;\">\n",
       "      <th></th>\n",
       "      <th>AGER_TYP</th>\n",
       "      <th>ALTERSKATEGORIE_GROB</th>\n",
       "      <th>ANREDE_KZ</th>\n",
       "      <th>CJT_GESAMTTYP</th>\n",
       "      <th>FINANZ_MINIMALIST</th>\n",
       "      <th>FINANZ_SPARER</th>\n",
       "      <th>FINANZ_VORSORGER</th>\n",
       "      <th>FINANZ_ANLEGER</th>\n",
       "      <th>FINANZ_UNAUFFAELLIGER</th>\n",
       "      <th>FINANZ_HAUSBAUER</th>\n",
       "      <th>...</th>\n",
       "      <th>PLZ8_ANTG1</th>\n",
       "      <th>PLZ8_ANTG2</th>\n",
       "      <th>PLZ8_ANTG3</th>\n",
       "      <th>PLZ8_ANTG4</th>\n",
       "      <th>PLZ8_BAUMAX</th>\n",
       "      <th>PLZ8_HHZ</th>\n",
       "      <th>PLZ8_GBZ</th>\n",
       "      <th>ARBEIT</th>\n",
       "      <th>ORTSGR_KLS9</th>\n",
       "      <th>RELAT_AB</th>\n",
       "    </tr>\n",
       "  </thead>\n",
       "  <tbody>\n",
       "    <tr>\n",
       "      <th>count</th>\n",
       "      <td>891221.000000</td>\n",
       "      <td>891221.000000</td>\n",
       "      <td>891221.000000</td>\n",
       "      <td>886367.000000</td>\n",
       "      <td>891221.000000</td>\n",
       "      <td>891221.000000</td>\n",
       "      <td>891221.000000</td>\n",
       "      <td>891221.000000</td>\n",
       "      <td>891221.000000</td>\n",
       "      <td>891221.000000</td>\n",
       "      <td>...</td>\n",
       "      <td>774706.000000</td>\n",
       "      <td>774706.000000</td>\n",
       "      <td>774706.000000</td>\n",
       "      <td>774706.000000</td>\n",
       "      <td>774706.000000</td>\n",
       "      <td>774706.000000</td>\n",
       "      <td>774706.000000</td>\n",
       "      <td>794005.000000</td>\n",
       "      <td>794005.000000</td>\n",
       "      <td>794005.00000</td>\n",
       "    </tr>\n",
       "    <tr>\n",
       "      <th>mean</th>\n",
       "      <td>-0.358435</td>\n",
       "      <td>2.777398</td>\n",
       "      <td>1.522098</td>\n",
       "      <td>3.632838</td>\n",
       "      <td>3.074528</td>\n",
       "      <td>2.821039</td>\n",
       "      <td>3.401106</td>\n",
       "      <td>3.033328</td>\n",
       "      <td>2.874167</td>\n",
       "      <td>3.075121</td>\n",
       "      <td>...</td>\n",
       "      <td>2.253330</td>\n",
       "      <td>2.801858</td>\n",
       "      <td>1.595426</td>\n",
       "      <td>0.699166</td>\n",
       "      <td>1.943913</td>\n",
       "      <td>3.612821</td>\n",
       "      <td>3.381087</td>\n",
       "      <td>3.167854</td>\n",
       "      <td>5.293002</td>\n",
       "      <td>3.07222</td>\n",
       "    </tr>\n",
       "    <tr>\n",
       "      <th>std</th>\n",
       "      <td>1.198724</td>\n",
       "      <td>1.068775</td>\n",
       "      <td>0.499512</td>\n",
       "      <td>1.595021</td>\n",
       "      <td>1.321055</td>\n",
       "      <td>1.464749</td>\n",
       "      <td>1.322134</td>\n",
       "      <td>1.529603</td>\n",
       "      <td>1.486731</td>\n",
       "      <td>1.353248</td>\n",
       "      <td>...</td>\n",
       "      <td>0.972008</td>\n",
       "      <td>0.920309</td>\n",
       "      <td>0.986736</td>\n",
       "      <td>0.727137</td>\n",
       "      <td>1.459654</td>\n",
       "      <td>0.973967</td>\n",
       "      <td>1.111598</td>\n",
       "      <td>1.002376</td>\n",
       "      <td>2.303739</td>\n",
       "      <td>1.36298</td>\n",
       "    </tr>\n",
       "    <tr>\n",
       "      <th>min</th>\n",
       "      <td>-1.000000</td>\n",
       "      <td>1.000000</td>\n",
       "      <td>1.000000</td>\n",
       "      <td>1.000000</td>\n",
       "      <td>1.000000</td>\n",
       "      <td>1.000000</td>\n",
       "      <td>1.000000</td>\n",
       "      <td>1.000000</td>\n",
       "      <td>1.000000</td>\n",
       "      <td>1.000000</td>\n",
       "      <td>...</td>\n",
       "      <td>0.000000</td>\n",
       "      <td>0.000000</td>\n",
       "      <td>0.000000</td>\n",
       "      <td>0.000000</td>\n",
       "      <td>1.000000</td>\n",
       "      <td>1.000000</td>\n",
       "      <td>1.000000</td>\n",
       "      <td>1.000000</td>\n",
       "      <td>0.000000</td>\n",
       "      <td>1.00000</td>\n",
       "    </tr>\n",
       "    <tr>\n",
       "      <th>25%</th>\n",
       "      <td>-1.000000</td>\n",
       "      <td>2.000000</td>\n",
       "      <td>1.000000</td>\n",
       "      <td>2.000000</td>\n",
       "      <td>2.000000</td>\n",
       "      <td>1.000000</td>\n",
       "      <td>3.000000</td>\n",
       "      <td>2.000000</td>\n",
       "      <td>2.000000</td>\n",
       "      <td>2.000000</td>\n",
       "      <td>...</td>\n",
       "      <td>1.000000</td>\n",
       "      <td>2.000000</td>\n",
       "      <td>1.000000</td>\n",
       "      <td>0.000000</td>\n",
       "      <td>1.000000</td>\n",
       "      <td>3.000000</td>\n",
       "      <td>3.000000</td>\n",
       "      <td>3.000000</td>\n",
       "      <td>4.000000</td>\n",
       "      <td>2.00000</td>\n",
       "    </tr>\n",
       "    <tr>\n",
       "      <th>50%</th>\n",
       "      <td>-1.000000</td>\n",
       "      <td>3.000000</td>\n",
       "      <td>2.000000</td>\n",
       "      <td>4.000000</td>\n",
       "      <td>3.000000</td>\n",
       "      <td>3.000000</td>\n",
       "      <td>3.000000</td>\n",
       "      <td>3.000000</td>\n",
       "      <td>3.000000</td>\n",
       "      <td>3.000000</td>\n",
       "      <td>...</td>\n",
       "      <td>2.000000</td>\n",
       "      <td>3.000000</td>\n",
       "      <td>2.000000</td>\n",
       "      <td>1.000000</td>\n",
       "      <td>1.000000</td>\n",
       "      <td>4.000000</td>\n",
       "      <td>3.000000</td>\n",
       "      <td>3.000000</td>\n",
       "      <td>5.000000</td>\n",
       "      <td>3.00000</td>\n",
       "    </tr>\n",
       "    <tr>\n",
       "      <th>75%</th>\n",
       "      <td>-1.000000</td>\n",
       "      <td>4.000000</td>\n",
       "      <td>2.000000</td>\n",
       "      <td>5.000000</td>\n",
       "      <td>4.000000</td>\n",
       "      <td>4.000000</td>\n",
       "      <td>5.000000</td>\n",
       "      <td>5.000000</td>\n",
       "      <td>4.000000</td>\n",
       "      <td>4.000000</td>\n",
       "      <td>...</td>\n",
       "      <td>3.000000</td>\n",
       "      <td>3.000000</td>\n",
       "      <td>2.000000</td>\n",
       "      <td>1.000000</td>\n",
       "      <td>3.000000</td>\n",
       "      <td>4.000000</td>\n",
       "      <td>4.000000</td>\n",
       "      <td>4.000000</td>\n",
       "      <td>7.000000</td>\n",
       "      <td>4.00000</td>\n",
       "    </tr>\n",
       "    <tr>\n",
       "      <th>max</th>\n",
       "      <td>3.000000</td>\n",
       "      <td>9.000000</td>\n",
       "      <td>2.000000</td>\n",
       "      <td>6.000000</td>\n",
       "      <td>5.000000</td>\n",
       "      <td>5.000000</td>\n",
       "      <td>5.000000</td>\n",
       "      <td>5.000000</td>\n",
       "      <td>5.000000</td>\n",
       "      <td>5.000000</td>\n",
       "      <td>...</td>\n",
       "      <td>4.000000</td>\n",
       "      <td>4.000000</td>\n",
       "      <td>3.000000</td>\n",
       "      <td>2.000000</td>\n",
       "      <td>5.000000</td>\n",
       "      <td>5.000000</td>\n",
       "      <td>5.000000</td>\n",
       "      <td>9.000000</td>\n",
       "      <td>9.000000</td>\n",
       "      <td>9.00000</td>\n",
       "    </tr>\n",
       "  </tbody>\n",
       "</table>\n",
       "<p>8 rows × 81 columns</p>\n",
       "</div>"
      ],
      "text/plain": [
       "            AGER_TYP  ALTERSKATEGORIE_GROB      ANREDE_KZ  CJT_GESAMTTYP  \\\n",
       "count  891221.000000         891221.000000  891221.000000  886367.000000   \n",
       "mean       -0.358435              2.777398       1.522098       3.632838   \n",
       "std         1.198724              1.068775       0.499512       1.595021   \n",
       "min        -1.000000              1.000000       1.000000       1.000000   \n",
       "25%        -1.000000              2.000000       1.000000       2.000000   \n",
       "50%        -1.000000              3.000000       2.000000       4.000000   \n",
       "75%        -1.000000              4.000000       2.000000       5.000000   \n",
       "max         3.000000              9.000000       2.000000       6.000000   \n",
       "\n",
       "       FINANZ_MINIMALIST  FINANZ_SPARER  FINANZ_VORSORGER  FINANZ_ANLEGER  \\\n",
       "count      891221.000000  891221.000000     891221.000000   891221.000000   \n",
       "mean            3.074528       2.821039          3.401106        3.033328   \n",
       "std             1.321055       1.464749          1.322134        1.529603   \n",
       "min             1.000000       1.000000          1.000000        1.000000   \n",
       "25%             2.000000       1.000000          3.000000        2.000000   \n",
       "50%             3.000000       3.000000          3.000000        3.000000   \n",
       "75%             4.000000       4.000000          5.000000        5.000000   \n",
       "max             5.000000       5.000000          5.000000        5.000000   \n",
       "\n",
       "       FINANZ_UNAUFFAELLIGER  FINANZ_HAUSBAUER      ...          PLZ8_ANTG1  \\\n",
       "count          891221.000000     891221.000000      ...       774706.000000   \n",
       "mean                2.874167          3.075121      ...            2.253330   \n",
       "std                 1.486731          1.353248      ...            0.972008   \n",
       "min                 1.000000          1.000000      ...            0.000000   \n",
       "25%                 2.000000          2.000000      ...            1.000000   \n",
       "50%                 3.000000          3.000000      ...            2.000000   \n",
       "75%                 4.000000          4.000000      ...            3.000000   \n",
       "max                 5.000000          5.000000      ...            4.000000   \n",
       "\n",
       "          PLZ8_ANTG2     PLZ8_ANTG3     PLZ8_ANTG4    PLZ8_BAUMAX  \\\n",
       "count  774706.000000  774706.000000  774706.000000  774706.000000   \n",
       "mean        2.801858       1.595426       0.699166       1.943913   \n",
       "std         0.920309       0.986736       0.727137       1.459654   \n",
       "min         0.000000       0.000000       0.000000       1.000000   \n",
       "25%         2.000000       1.000000       0.000000       1.000000   \n",
       "50%         3.000000       2.000000       1.000000       1.000000   \n",
       "75%         3.000000       2.000000       1.000000       3.000000   \n",
       "max         4.000000       3.000000       2.000000       5.000000   \n",
       "\n",
       "            PLZ8_HHZ       PLZ8_GBZ         ARBEIT    ORTSGR_KLS9  \\\n",
       "count  774706.000000  774706.000000  794005.000000  794005.000000   \n",
       "mean        3.612821       3.381087       3.167854       5.293002   \n",
       "std         0.973967       1.111598       1.002376       2.303739   \n",
       "min         1.000000       1.000000       1.000000       0.000000   \n",
       "25%         3.000000       3.000000       3.000000       4.000000   \n",
       "50%         4.000000       3.000000       3.000000       5.000000   \n",
       "75%         4.000000       4.000000       4.000000       7.000000   \n",
       "max         5.000000       5.000000       9.000000       9.000000   \n",
       "\n",
       "           RELAT_AB  \n",
       "count  794005.00000  \n",
       "mean        3.07222  \n",
       "std         1.36298  \n",
       "min         1.00000  \n",
       "25%         2.00000  \n",
       "50%         3.00000  \n",
       "75%         4.00000  \n",
       "max         9.00000  \n",
       "\n",
       "[8 rows x 81 columns]"
      ]
     },
     "execution_count": 7,
     "metadata": {},
     "output_type": "execute_result"
    }
   ],
   "source": [
    "azdias.describe()"
   ]
  },
  {
   "cell_type": "code",
   "execution_count": 8,
   "metadata": {},
   "outputs": [
    {
     "data": {
      "text/plain": [
       "AGER_TYP                   int64\n",
       "ALTERSKATEGORIE_GROB       int64\n",
       "ANREDE_KZ                  int64\n",
       "CJT_GESAMTTYP            float64\n",
       "FINANZ_MINIMALIST          int64\n",
       "FINANZ_SPARER              int64\n",
       "FINANZ_VORSORGER           int64\n",
       "FINANZ_ANLEGER             int64\n",
       "FINANZ_UNAUFFAELLIGER      int64\n",
       "FINANZ_HAUSBAUER           int64\n",
       "FINANZTYP                  int64\n",
       "GEBURTSJAHR                int64\n",
       "GFK_URLAUBERTYP          float64\n",
       "GREEN_AVANTGARDE           int64\n",
       "HEALTH_TYP                 int64\n",
       "LP_LEBENSPHASE_FEIN      float64\n",
       "LP_LEBENSPHASE_GROB      float64\n",
       "LP_FAMILIE_FEIN          float64\n",
       "LP_FAMILIE_GROB          float64\n",
       "LP_STATUS_FEIN           float64\n",
       "LP_STATUS_GROB           float64\n",
       "NATIONALITAET_KZ           int64\n",
       "PRAEGENDE_JUGENDJAHRE      int64\n",
       "RETOURTYP_BK_S           float64\n",
       "SEMIO_SOZ                  int64\n",
       "SEMIO_FAM                  int64\n",
       "SEMIO_REL                  int64\n",
       "SEMIO_MAT                  int64\n",
       "SEMIO_VERT                 int64\n",
       "SEMIO_LUST                 int64\n",
       "                          ...   \n",
       "OST_WEST_KZ               object\n",
       "WOHNLAGE                 float64\n",
       "CAMEO_DEUG_2015           object\n",
       "CAMEO_DEU_2015            object\n",
       "CAMEO_INTL_2015           object\n",
       "KBA05_ANTG1              float64\n",
       "KBA05_ANTG2              float64\n",
       "KBA05_ANTG3              float64\n",
       "KBA05_ANTG4              float64\n",
       "KBA05_BAUMAX             float64\n",
       "KBA05_GBZ                float64\n",
       "BALLRAUM                 float64\n",
       "EWDICHTE                 float64\n",
       "INNENSTADT               float64\n",
       "GEBAEUDETYP_RASTER       float64\n",
       "KKK                      float64\n",
       "MOBI_REGIO               float64\n",
       "ONLINE_AFFINITAET        float64\n",
       "REGIOTYP                 float64\n",
       "KBA13_ANZAHL_PKW         float64\n",
       "PLZ8_ANTG1               float64\n",
       "PLZ8_ANTG2               float64\n",
       "PLZ8_ANTG3               float64\n",
       "PLZ8_ANTG4               float64\n",
       "PLZ8_BAUMAX              float64\n",
       "PLZ8_HHZ                 float64\n",
       "PLZ8_GBZ                 float64\n",
       "ARBEIT                   float64\n",
       "ORTSGR_KLS9              float64\n",
       "RELAT_AB                 float64\n",
       "Length: 85, dtype: object"
      ]
     },
     "execution_count": 8,
     "metadata": {},
     "output_type": "execute_result"
    }
   ],
   "source": [
    "azdias.dtypes"
   ]
  },
  {
   "cell_type": "code",
   "execution_count": 9,
   "metadata": {},
   "outputs": [
    {
     "data": {
      "text/plain": [
       "(85, 4)"
      ]
     },
     "execution_count": 9,
     "metadata": {},
     "output_type": "execute_result"
    }
   ],
   "source": [
    "feat_info.shape"
   ]
  },
  {
   "cell_type": "code",
   "execution_count": 10,
   "metadata": {},
   "outputs": [
    {
     "data": {
      "text/html": [
       "<div>\n",
       "<style scoped>\n",
       "    .dataframe tbody tr th:only-of-type {\n",
       "        vertical-align: middle;\n",
       "    }\n",
       "\n",
       "    .dataframe tbody tr th {\n",
       "        vertical-align: top;\n",
       "    }\n",
       "\n",
       "    .dataframe thead th {\n",
       "        text-align: right;\n",
       "    }\n",
       "</style>\n",
       "<table border=\"1\" class=\"dataframe\">\n",
       "  <thead>\n",
       "    <tr style=\"text-align: right;\">\n",
       "      <th></th>\n",
       "      <th>attribute</th>\n",
       "      <th>information_level</th>\n",
       "      <th>type</th>\n",
       "      <th>missing_or_unknown</th>\n",
       "    </tr>\n",
       "  </thead>\n",
       "  <tbody>\n",
       "    <tr>\n",
       "      <th>0</th>\n",
       "      <td>AGER_TYP</td>\n",
       "      <td>person</td>\n",
       "      <td>categorical</td>\n",
       "      <td>[-1,0]</td>\n",
       "    </tr>\n",
       "    <tr>\n",
       "      <th>1</th>\n",
       "      <td>ALTERSKATEGORIE_GROB</td>\n",
       "      <td>person</td>\n",
       "      <td>ordinal</td>\n",
       "      <td>[-1,0,9]</td>\n",
       "    </tr>\n",
       "    <tr>\n",
       "      <th>2</th>\n",
       "      <td>ANREDE_KZ</td>\n",
       "      <td>person</td>\n",
       "      <td>categorical</td>\n",
       "      <td>[-1,0]</td>\n",
       "    </tr>\n",
       "    <tr>\n",
       "      <th>3</th>\n",
       "      <td>CJT_GESAMTTYP</td>\n",
       "      <td>person</td>\n",
       "      <td>categorical</td>\n",
       "      <td>[0]</td>\n",
       "    </tr>\n",
       "    <tr>\n",
       "      <th>4</th>\n",
       "      <td>FINANZ_MINIMALIST</td>\n",
       "      <td>person</td>\n",
       "      <td>ordinal</td>\n",
       "      <td>[-1]</td>\n",
       "    </tr>\n",
       "  </tbody>\n",
       "</table>\n",
       "</div>"
      ],
      "text/plain": [
       "              attribute information_level         type missing_or_unknown\n",
       "0              AGER_TYP            person  categorical             [-1,0]\n",
       "1  ALTERSKATEGORIE_GROB            person      ordinal           [-1,0,9]\n",
       "2             ANREDE_KZ            person  categorical             [-1,0]\n",
       "3         CJT_GESAMTTYP            person  categorical                [0]\n",
       "4     FINANZ_MINIMALIST            person      ordinal               [-1]"
      ]
     },
     "execution_count": 10,
     "metadata": {},
     "output_type": "execute_result"
    }
   ],
   "source": [
    "feat_info.head()"
   ]
  },
  {
   "cell_type": "code",
   "execution_count": 11,
   "metadata": {},
   "outputs": [
    {
     "data": {
      "text/plain": [
       "attribute             object\n",
       "information_level     object\n",
       "type                  object\n",
       "missing_or_unknown    object\n",
       "dtype: object"
      ]
     },
     "execution_count": 11,
     "metadata": {},
     "output_type": "execute_result"
    }
   ],
   "source": [
    "feat_info.dtypes"
   ]
  },
  {
   "cell_type": "code",
   "execution_count": null,
   "metadata": {},
   "outputs": [],
   "source": []
  },
  {
   "cell_type": "code",
   "execution_count": null,
   "metadata": {},
   "outputs": [],
   "source": []
  },
  {
   "cell_type": "code",
   "execution_count": null,
   "metadata": {},
   "outputs": [],
   "source": []
  },
  {
   "cell_type": "code",
   "execution_count": null,
   "metadata": {},
   "outputs": [],
   "source": []
  },
  {
   "cell_type": "markdown",
   "metadata": {},
   "source": [
    "> **Tip**: Add additional cells to keep everything in reasonably-sized chunks! Keyboard shortcut `esc --> a` (press escape to enter command mode, then press the 'A' key) adds a new cell before the active cell, and `esc --> b` adds a new cell after the active cell. If you need to convert an active cell to a markdown cell, use `esc --> m` and to convert to a code cell, use `esc --> y`. \n",
    "\n",
    "## Step 1: Preprocessing\n",
    "\n",
    "### Step 1.1: Assess Missing Data\n",
    "\n",
    "The feature summary file contains a summary of properties for each demographics data column. You will use this file to help you make cleaning decisions during this stage of the project. First of all, you should assess the demographics data in terms of missing data. Pay attention to the following points as you perform your analysis, and take notes on what you observe. Make sure that you fill in the **Discussion** cell with your findings and decisions at the end of each step that has one!\n",
    "\n",
    "#### Step 1.1.1: Convert Missing Value Codes to NaNs\n",
    "The fourth column of the feature attributes summary (loaded in above as `feat_info`) documents the codes from the data dictionary that indicate missing or unknown data. While the file encodes this as a list (e.g. `[-1,0]`), this will get read in as a string object. You'll need to do a little bit of parsing to make use of it to identify and clean the data. Convert data that matches a 'missing' or 'unknown' value code into a numpy NaN value. You might want to see how much data takes on a 'missing' or 'unknown' code, and how much data is naturally missing, as a point of interest.\n",
    "\n",
    "**As one more reminder, you are encouraged to add additional cells to break up your analysis into manageable chunks.**"
   ]
  },
  {
   "cell_type": "code",
   "execution_count": 12,
   "metadata": {},
   "outputs": [],
   "source": [
    "# Identify missing or unknown data values and convert them to NaNs."
   ]
  },
  {
   "cell_type": "code",
   "execution_count": 13,
   "metadata": {},
   "outputs": [],
   "source": [
    "# format missing_or_unknown to a list w/appropriate var types \n",
    "\n",
    "for x in range(0, len(feat_info['missing_or_unknown'])): \n",
    "    if \"X\" in feat_info['missing_or_unknown'][x]: \n",
    "        feat_info['missing_or_unknown'][x] = feat_info['missing_or_unknown'][x].strip(']')\n",
    "        feat_info['missing_or_unknown'][x] = feat_info['missing_or_unknown'][x].strip('[')\n",
    "        feat_info['missing_or_unknown'][x] = feat_info['missing_or_unknown'][x].split(',')\n",
    "        \n",
    "        for i in range(0, len(feat_info['missing_or_unknown'][x])):\n",
    "            if \"X\" not in feat_info['missing_or_unknown'][x][i]:\n",
    "                feat_info['missing_or_unknown'][x][i] = int(feat_info['missing_or_unknown'][x][i])\n",
    "            else: \n",
    "                continue\n",
    "    else: \n",
    "        try:\n",
    "            feat_info['missing_or_unknown'][x] = ast.literal_eval(feat_info['missing_or_unknown'][x])\n",
    "        except:\n",
    "            print(\"something else occurred\")\n"
   ]
  },
  {
   "cell_type": "code",
   "execution_count": 14,
   "metadata": {},
   "outputs": [
    {
     "name": "stdout",
     "output_type": "stream",
     "text": [
      "<class 'list'>\n",
      "[-1, 'X']\n"
     ]
    }
   ],
   "source": [
    "# sanity check \n",
    "print(type(feat_info['missing_or_unknown'][57]))\n",
    "print(feat_info['missing_or_unknown'][57])"
   ]
  },
  {
   "cell_type": "code",
   "execution_count": 15,
   "metadata": {},
   "outputs": [],
   "source": [
    "# check amount of originally encoded nans\n",
    "# save original counts and series for potential analysis later \n",
    "original_nan_count = azdias.isnull().sum().sum()\n",
    "original_nan_series = azdias.isnull().sum()"
   ]
  },
  {
   "cell_type": "code",
   "execution_count": 16,
   "metadata": {},
   "outputs": [],
   "source": [
    "# replace missing_or_unknown values w/nans \n",
    "\n",
    "for i in range(0, len(feat_info)): \n",
    "    attribute = feat_info.iloc[i]['attribute']\n",
    "    nan_values = feat_info.iloc[i]['missing_or_unknown']\n",
    "    for v in nan_values:\n",
    "        azdias[attribute] = azdias[attribute].replace(v, np.nan)\n"
   ]
  },
  {
   "cell_type": "code",
   "execution_count": 17,
   "metadata": {},
   "outputs": [],
   "source": [
    "# save amount of nans after coding missing_or_unknown as a count and series\n",
    "actual_nan_count = azdias.isnull().sum().sum()\n",
    "actual_nan_series = azdias.isnull().sum()"
   ]
  },
  {
   "cell_type": "markdown",
   "metadata": {},
   "source": [
    "#### Step 1.1.2: Assess Missing Data in Each Column\n",
    "\n",
    "How much missing data is present in each column? There are a few columns that are outliers in terms of the proportion of values that are missing. You will want to use matplotlib's [`hist()`](https://matplotlib.org/api/_as_gen/matplotlib.pyplot.hist.html) function to visualize the distribution of missing value counts to find these columns. Identify and document these columns. While some of these columns might have justifications for keeping or re-encoding the data, for this project you should just remove them from the dataframe. (Feel free to make remarks about these outlier columns in the discussion, however!)\n",
    "\n",
    "For the remaining features, are there any patterns in which columns have, or share, missing data?"
   ]
  },
  {
   "cell_type": "code",
   "execution_count": 18,
   "metadata": {},
   "outputs": [
    {
     "name": "stdout",
     "output_type": "stream",
     "text": [
      "azdias data has 4896838 original NaN and 8373929 actual NaNs after coding missing_or_unknown values\n"
     ]
    }
   ],
   "source": [
    "# Perform an assessment of how much missing data there is in each column of the\n",
    "# dataset.\n",
    "print('azdias data has {} original NaN and {} actual NaNs after coding missing_or_unknown values'.format(original_nan_count, actual_nan_count))\n"
   ]
  },
  {
   "cell_type": "code",
   "execution_count": 19,
   "metadata": {},
   "outputs": [
    {
     "name": "stdout",
     "output_type": "stream",
     "text": [
      "count        85.000000\n",
      "mean      98516.811765\n",
      "std      146604.203317\n",
      "min           0.000000\n",
      "25%           0.000000\n",
      "50%       93148.000000\n",
      "75%      116515.000000\n",
      "max      889061.000000\n",
      "dtype: float64\n"
     ]
    },
    {
     "data": {
      "image/png": "[encoded data removed]",
      "text/plain": [
       "<matplotlib.figure.Figure at 0x7fe653136160>"
      ]
     },
     "metadata": {
      "needs_background": "light"
     },
     "output_type": "display_data"
    }
   ],
   "source": [
    "print(actual_nan_series.describe()) \n",
    "perc_cutoff = actual_nan_series.describe()['75%']\n",
    "plt.hist(actual_nan_series)\n",
    "plt.ylabel('Field counts')\n",
    "plt.xlabel('NaNs in field')\n",
    "plt.title('Missing data')\n",
    "plt.show()"
   ]
  },
  {
   "cell_type": "code",
   "execution_count": 20,
   "metadata": {},
   "outputs": [],
   "source": [
    "# Investigate patterns in the amount of missing data in each column.\n",
    "# actual_nan_series.plot(kind='barh', title='Actual NaN counts', figsize = (8,23))"
   ]
  },
  {
   "cell_type": "code",
   "execution_count": 21,
   "metadata": {},
   "outputs": [],
   "source": [
    "# view actual amount of missing values for each field\n",
    "# actual_nan_series.sort_values(ascending=False)\n"
   ]
  },
  {
   "cell_type": "code",
   "execution_count": 22,
   "metadata": {},
   "outputs": [
    {
     "name": "stdout",
     "output_type": "stream",
     "text": [
      "63 columns to keep from azdias data\n"
     ]
    }
   ],
   "source": [
    "# Remove the outlier columns from the dataset. (You'll perform other data\n",
    "# engineering tasks such as re-encoding and imputation later.)\n",
    "\n",
    "# create list of cols to keep \n",
    "keep_cols = []\n",
    "\n",
    "for i,v in actual_nan_series.iteritems():     \n",
    "    if v < perc_cutoff:\n",
    "        keep_cols.append(i)\n",
    "    else: \n",
    "        continue\n",
    "\n",
    "# create list of remove cols for discussion\n",
    "remove_cols = []\n",
    "\n",
    "for i,v in actual_nan_series.iteritems():     \n",
    "    if v >= perc_cutoff:\n",
    "        remove_cols.append(i)\n",
    "    else: \n",
    "        continue\n",
    "        \n",
    "        \n",
    "print(\"{} columns to keep from azdias data\".format(len(keep_cols)))\n"
   ]
  },
  {
   "cell_type": "code",
   "execution_count": 23,
   "metadata": {},
   "outputs": [],
   "source": [
    "# remove cols from df \n",
    "azdias_clean_cols = azdias[keep_cols]\n"
   ]
  },
  {
   "cell_type": "code",
   "execution_count": null,
   "metadata": {},
   "outputs": [],
   "source": []
  },
  {
   "cell_type": "code",
   "execution_count": 24,
   "metadata": {},
   "outputs": [
    {
     "data": {
      "image/png": "[encoded data removed]",
      "text/plain": [
       "<matplotlib.figure.Figure at 0x7fe653081ba8>"
      ]
     },
     "metadata": {
      "needs_background": "light"
     },
     "output_type": "display_data"
    }
   ],
   "source": [
    "# new missing data distribution\n",
    "clean_cols_nan_series = azdias_clean_cols.isnull().sum()\n",
    "plt.hist(clean_cols_nan_series)\n",
    "plt.ylabel('Field counts')\n",
    "plt.xlabel('NaNs in field')\n",
    "plt.title('Missing data after columns removed')\n",
    "plt.show()"
   ]
  },
  {
   "cell_type": "code",
   "execution_count": 25,
   "metadata": {},
   "outputs": [
    {
     "data": {
      "text/plain": [
       "<matplotlib.axes._subplots.AxesSubplot at 0x7fe650fff8d0>"
      ]
     },
     "execution_count": 25,
     "metadata": {},
     "output_type": "execute_result"
    },
    {
     "data": {
      "image/png": "[encoded data removed]",
      "text/plain": [
       "<matplotlib.figure.Figure at 0x7fe6531d97f0>"
      ]
     },
     "metadata": {
      "needs_background": "light"
     },
     "output_type": "display_data"
    }
   ],
   "source": [
    "clean_cols_nan_series.sort_values().plot(kind='barh', title='Actual NaN counts w/cleaned columns', figsize = (8,15))"
   ]
  },
  {
   "cell_type": "code",
   "execution_count": 26,
   "metadata": {},
   "outputs": [
    {
     "name": "stdout",
     "output_type": "stream",
     "text": [
      "summary of removed columns\n",
      "\n",
      " AGER_TYP          685843\n",
      "GEBURTSJAHR       392318\n",
      "TITEL_KZ          889061\n",
      "ALTER_HH          310267\n",
      "KK_KUNDENTYP      584612\n",
      "W_KEIT_KIND_HH    147988\n",
      "KBA05_ANTG1       133324\n",
      "KBA05_ANTG2       133324\n",
      "KBA05_ANTG3       133324\n",
      "KBA05_ANTG4       133324\n",
      "KBA05_BAUMAX      476524\n",
      "KBA05_GBZ         133324\n",
      "KKK               158064\n",
      "MOBI_REGIO        133324\n",
      "REGIOTYP          158064\n",
      "PLZ8_ANTG1        116515\n",
      "PLZ8_ANTG2        116515\n",
      "PLZ8_ANTG3        116515\n",
      "PLZ8_ANTG4        116515\n",
      "PLZ8_BAUMAX       116515\n",
      "PLZ8_HHZ          116515\n",
      "PLZ8_GBZ          116515\n",
      "dtype: int64\n"
     ]
    }
   ],
   "source": [
    "azdias_removed_cols = azdias[remove_cols]\n",
    "removed_series = azdias_removed_cols.isnull().sum()\n",
    "print(\"summary of removed columns\\n\\n\", removed_series)\n",
    "\n",
    "# print(\"\\n\\n summary of remaining columns \\n\\n\", clean_cols_nan_series.sort_values(ascending=False))  "
   ]
  },
  {
   "cell_type": "markdown",
   "metadata": {},
   "source": [
    "#### Discussion 1.1.2: Assess Missing Data in Each Column\n",
    "\n",
    "\n",
    "I identified outliers as anything at or over the 75th percentile (i.e. >= 116515 missing values). So, if a field has >= 13% (116515/len(azdias)) of missing data, then I dropped the field. Columns removed and missing data for those columns are summarized in the cell above. For the remaining 63 fields kept, a fair amount have 0-10k NaNs, while some fields have 90k-11k NaNs. Again, note that all remaining fields have at lease ~87% of data. \n",
    "\n",
    "For the remaining columns, these seem to be a few preliminary patterns. the Semio fields do not appear to have missing data, while other fields like the Cameo fields have a similar amount of missing data. With trends like these, I'd hypothesize taht similarly named variables with similar missing data patterns might lend themselves to latent variables to reduce the dimensionality of this dataset. \n"
   ]
  },
  {
   "cell_type": "markdown",
   "metadata": {},
   "source": [
    "#### Step 1.1.3: Assess Missing Data in Each Row\n",
    "\n",
    "Now, you'll perform a similar assessment for the rows of the dataset. How much data is missing in each row? As with the columns, you should see some groups of points that have a very different numbers of missing values. Divide the data into two subsets: one for data points that are above some threshold for missing values, and a second subset for points below that threshold.\n",
    "\n",
    "In order to know what to do with the outlier rows, we should see if the distribution of data values on columns that are not missing data (or are missing very little data) are similar or different between the two groups. Select at least five of these columns and compare the distribution of values.\n",
    "- You can use seaborn's [`countplot()`](https://seaborn.pydata.org/generated/seaborn.countplot.html) function to create a bar chart of code frequencies and matplotlib's [`subplot()`](https://matplotlib.org/api/_as_gen/matplotlib.pyplot.subplot.html) function to put bar charts for the two subplots side by side.\n",
    "- To reduce repeated code, you might want to write a function that can perform this comparison, taking as one of its arguments a column to be compared.\n",
    "\n",
    "Depending on what you observe in your comparison, this will have implications on how you approach your conclusions later in the analysis. If the distributions of non-missing features look similar between the data with many missing values and the data with few or no missing values, then we could argue that simply dropping those points from the analysis won't present a major issue. On the other hand, if the data with many missing values looks very different from the data with few or no missing values, then we should make a note on those data as special. We'll revisit these data later on. **Either way, you should continue your analysis for now using just the subset of the data with few or no missing values.**"
   ]
  },
  {
   "cell_type": "code",
   "execution_count": 27,
   "metadata": {},
   "outputs": [
    {
     "name": "stdout",
     "output_type": "stream",
     "text": [
      "Missing data in rows summary \n",
      " count    891221.000000\n",
      "mean          6.079626\n",
      "std           5.928445\n",
      "min           0.000000\n",
      "25%           3.000000\n",
      "50%           4.000000\n",
      "75%           6.000000\n",
      "max          22.000000\n",
      "dtype: float64\n"
     ]
    },
    {
     "data": {
      "image/png": "[encoded data removed]",
      "text/plain": [
       "<matplotlib.figure.Figure at 0x7fe650eee160>"
      ]
     },
     "metadata": {
      "needs_background": "light"
     },
     "output_type": "display_data"
    }
   ],
   "source": [
    "# How much data is missing in each row of the dataset?\n",
    "row_nan_series = azdias_removed_cols.isnull().sum(axis=1)\n",
    "row_cutoff = row_nan_series.describe()['75%']\n",
    "\n",
    "print(\"Missing data in rows summary \\n\", row_nan_series.describe())\n",
    "plt.hist(row_nan_series)\n",
    "plt.ylabel('Number of Rows')\n",
    "plt.xlabel('Number of NaNs')\n",
    "plt.title('Missing data in rows')\n",
    "plt.show()"
   ]
  },
  {
   "cell_type": "code",
   "execution_count": 28,
   "metadata": {},
   "outputs": [],
   "source": [
    "# Write code to divide the data into two subsets based on the number of missing\n",
    "# values in each row.\n",
    "azdias_clean_cols_1 = azdias_clean_cols[azdias_clean_cols.isnull().sum(axis=1) <= row_cutoff]\n",
    "azdias_clean_cols_2 = azdias_clean_cols[azdias_clean_cols.isnull().sum(axis=1) > row_cutoff]"
   ]
  },
  {
   "cell_type": "code",
   "execution_count": null,
   "metadata": {},
   "outputs": [],
   "source": []
  },
  {
   "cell_type": "code",
   "execution_count": 29,
   "metadata": {},
   "outputs": [
    {
     "data": {
      "image/png": "[encoded data removed]",
      "text/plain": [
       "<matplotlib.figure.Figure at 0x7fe64f5eb748>"
      ]
     },
     "metadata": {
      "needs_background": "light"
     },
     "output_type": "display_data"
    }
   ],
   "source": [
    "# Compare the distribution of values for at least five columns where there are\n",
    "# no or few missing values, between the two subsets.\n",
    "\n",
    "\n",
    "# used below to select 5 columns w/no or few missing values \n",
    "# clean_cols_nan_series.sort_values()\n",
    "\n",
    "dist_cols = ['SEMIO_KRIT', 'SEMIO_REL', 'FINANZ_MINIMALIST', \n",
    "             'FINANZ_HAUSBAUER', 'LP_STATUS_GROB']\n",
    "\n",
    "figure, axs = plt.subplots(nrows=len(dist_cols), ncols=2, figsize = (15, 15))\n",
    "plt.subplots_adjust(wspace=0.2, hspace=0.7)\n",
    "\n",
    "for i in range(len(dist_cols)):\n",
    "    sns.countplot(data=azdias_clean_cols_1, x=dist_cols[i], ax=axs[i][0])\n",
    "    axs[i][0].set_title('few or no missing values')\n",
    "    sns.countplot(data=azdias_clean_cols_2, x=dist_cols[i], ax=axs[i][1])\n",
    "    axs[i][1].set_title('many missing values')\n"
   ]
  },
  {
   "cell_type": "code",
   "execution_count": null,
   "metadata": {},
   "outputs": [],
   "source": []
  },
  {
   "cell_type": "markdown",
   "metadata": {},
   "source": [
    "#### Discussion 1.1.3: Assess Missing Data in Each Row\n",
    "\n",
    "The distributions for the data with few or no missing values and many missing values are quite different for the variables I examined. SEMIO_KRIT and SEMIO_REL have smilar distributions in that the subsets with many missing values have large amounts of 7s, while the subsets with few or no missing values have a fair amount of observations for each value (1-7). Similarly, the FINANZ_MINIMALIST and FINANZ_HAUSBAUER subsets with many missing values have large amounts of 3s, while the subsets with few or no missing values have a fair amount of observations for each value (1-5). LP_STATUS_GROB does not follow a similar pattern and the two subsets do not have as striking a difference in distribution. "
   ]
  },
  {
   "cell_type": "markdown",
   "metadata": {},
   "source": [
    "### Step 1.2: Select and Re-Encode Features\n",
    "\n",
    "Checking for missing data isn't the only way in which you can prepare a dataset for analysis. Since the unsupervised learning techniques to be used will only work on data that is encoded numerically, you need to make a few encoding changes or additional assumptions to be able to make progress. In addition, while almost all of the values in the dataset are encoded using numbers, not all of them represent numeric values. Check the third column of the feature summary (`feat_info`) for a summary of types of measurement.\n",
    "- For numeric and interval data, these features can be kept without changes.\n",
    "- Most of the variables in the dataset are ordinal in nature. While ordinal values may technically be non-linear in spacing, make the simplifying assumption that the ordinal variables can be treated as being interval in nature (that is, kept without any changes).\n",
    "- Special handling may be necessary for the remaining two variable types: categorical, and 'mixed'.\n",
    "\n",
    "In the first two parts of this sub-step, you will perform an investigation of the categorical and mixed-type features and make a decision on each of them, whether you will keep, drop, or re-encode each. Then, in the last part, you will create a new data frame with only the selected and engineered columns.\n",
    "\n",
    "Data wrangling is often the trickiest part of the data analysis process, and there's a lot of it to be done here. But stick with it: once you're done with this step, you'll be ready to get to the machine learning parts of the project!"
   ]
  },
  {
   "cell_type": "code",
   "execution_count": 30,
   "metadata": {},
   "outputs": [
    {
     "name": "stdout",
     "output_type": "stream",
     "text": [
      "data types and counts\n"
     ]
    },
    {
     "data": {
      "text/plain": [
       "ordinal        34\n",
       "categorical    18\n",
       "numeric         6\n",
       "mixed           5\n",
       "Name: type, dtype: int64"
      ]
     },
     "execution_count": 30,
     "metadata": {},
     "output_type": "execute_result"
    }
   ],
   "source": [
    "# How many features are there of each data type?\n",
    "clean_cols = list(azdias_clean_cols_1)\n",
    "feat_info_clean = feat_info[feat_info['attribute'].isin(clean_cols)]\n",
    "\n",
    "print(\"data types and counts\")\n",
    "feat_info_clean['type'].value_counts()"
   ]
  },
  {
   "cell_type": "markdown",
   "metadata": {},
   "source": [
    "#### Step 1.2.1: Re-Encode Categorical Features\n",
    "\n",
    "For categorical data, you would ordinarily need to encode the levels as dummy variables. Depending on the number of categories, perform one of the following:\n",
    "- For binary (two-level) categoricals that take numeric values, you can keep them without needing to do anything.\n",
    "- There is one binary variable that takes on non-numeric values. For this one, you need to re-encode the values as numbers or create a dummy variable.\n",
    "- For multi-level categoricals (three or more values), you can choose to encode the values using multiple dummy variables (e.g. via [OneHotEncoder](http://scikit-learn.org/stable/modules/generated/sklearn.preprocessing.OneHotEncoder.html)), or (to keep things straightforward) just drop them from the analysis. As always, document your choices in the Discussion section."
   ]
  },
  {
   "cell_type": "code",
   "execution_count": null,
   "metadata": {},
   "outputs": [],
   "source": []
  },
  {
   "cell_type": "code",
   "execution_count": 31,
   "metadata": {},
   "outputs": [],
   "source": [
    "# Assess categorical variables: which are binary, which are multi-level, and\n",
    "# which one needs to be re-encoded?\n",
    "\n",
    "cat_cols = feat_info_clean[feat_info_clean['type']=='categorical']['attribute'].unique().tolist()\n",
    "binary_features = []\n",
    "multi_level_features = []\n",
    "\n",
    "for col in cat_cols:\n",
    "    col_values = azdias_clean_cols_1[col].unique()\n",
    "    values = []\n",
    "    \n",
    "    for v in col_values:\n",
    "        values.append(v)\n",
    "\n",
    "    if len(values) == 2:\n",
    "        binary_features.append(col)\n",
    "    \n",
    "    elif len(values) > 2: \n",
    "        multi_level_features.append(col)\n",
    "    \n",
    "    else:\n",
    "        print(\"what's up with values in {}?\".format(col))\n"
   ]
  },
  {
   "cell_type": "code",
   "execution_count": 32,
   "metadata": {},
   "outputs": [
    {
     "name": "stdout",
     "output_type": "stream",
     "text": [
      "binary features and values include: \n",
      "variable:  ANREDE_KZ\n",
      "values:  [2 1]\n",
      "variable:  GREEN_AVANTGARDE\n",
      "values:  [0 1]\n",
      "variable:  SOHO_KZ\n",
      "values:  [ 1.  0.]\n",
      "variable:  OST_WEST_KZ\n",
      "values:  ['W' 'O']\n"
     ]
    }
   ],
   "source": [
    "# binary features and values\n",
    "print(\"binary features and values include: \")\n",
    "for f in binary_features:\n",
    "    print(\"variable: \", f)\n",
    "    print(\"values: \",azdias_clean_cols_1[f].unique())\n"
   ]
  },
  {
   "cell_type": "code",
   "execution_count": 33,
   "metadata": {},
   "outputs": [
    {
     "name": "stdout",
     "output_type": "stream",
     "text": [
      "multi-level features and values include: \n",
      "CJT_GESAMTTYP\n",
      "values:  [ 5.  3.  2.  4.  1.  6.]\n",
      "FINANZTYP\n",
      "values:  [1 6 5 2 4 3]\n",
      "GFK_URLAUBERTYP\n",
      "values:  [ 10.   1.   5.  12.   9.   3.   8.  11.   4.   2.   7.   6.]\n",
      "LP_FAMILIE_FEIN\n",
      "values:  [  5.   1.  nan  10.   2.   7.  11.   8.   4.   6.   9.   3.]\n",
      "LP_FAMILIE_GROB\n",
      "values:  [  3.   1.  nan   5.   2.   4.]\n",
      "LP_STATUS_FEIN\n",
      "values:  [  2.   3.   9.   4.   1.  10.   5.   8.   6.   7.]\n",
      "LP_STATUS_GROB\n",
      "values:  [ 1.  2.  4.  5.  3.]\n",
      "NATIONALITAET_KZ\n",
      "values:  [  1.   3.   2.  nan]\n",
      "SHOPPER_TYP\n",
      "values:  [  3.   2.   1.   0.  nan]\n",
      "VERS_TYP\n",
      "values:  [  2.   1.  nan]\n",
      "ZABEOTYP\n",
      "values:  [5 3 4 1 6 2]\n",
      "GEBAEUDETYP\n",
      "values:  [ 8.  1.  3.  2.  6.  4.  5.]\n",
      "CAMEO_DEUG_2015\n",
      "values:  ['8' '4' '2' '6' '1' '9' '5' '7' nan '3']\n",
      "CAMEO_DEU_2015\n",
      "values:  ['8A' '4C' '2A' '6B' '8C' '4A' '2D' '1A' '1E' '9D' '5C' '8B' '7A' '5D' '9E'\n",
      " nan '9B' '1B' '3D' '4E' '4B' '3C' '5A' '7B' '9A' '6D' '6E' '2C' '7C' '9C'\n",
      " '7D' '5E' '1D' '8D' '6C' '6A' '5B' '4D' '3A' '2B' '7E' '3B' '6F' '5F' '1C']\n"
     ]
    }
   ],
   "source": [
    "# multilevel features and values\n",
    "print(\"multi-level features and values include: \")\n",
    "for f in multi_level_features:\n",
    "    print(f)\n",
    "    print(\"values: \",azdias_clean_cols_1[f].unique())\n"
   ]
  },
  {
   "cell_type": "code",
   "execution_count": 34,
   "metadata": {},
   "outputs": [
    {
     "name": "stdout",
     "output_type": "stream",
     "text": [
      "dropped 14 multi level columns\n",
      "re-encoded binary non-numeric column\n",
      "proceeding with 49 columns\n"
     ]
    }
   ],
   "source": [
    "# Re-encode categorical variable(s) to be kept in the analysis.\n",
    "\n",
    "# drop multilevel variables\n",
    "azdias_clean = azdias_clean_cols_1.drop(labels=multi_level_features, axis=1)\n",
    "print(\"dropped {} multi level columns\".format(len(multi_level_features)))\n",
    "\n",
    "# re-encode binary non-numeric variable \n",
    "azdias_clean = azdias_clean.replace({'OST_WEST_KZ':{'W': 0, 'O': 1}})\n",
    "print(\"re-encoded binary non-numeric column\")\n",
    "\n",
    "print(\"proceeding with {} columns\".format(len(list(azdias_clean))))"
   ]
  },
  {
   "cell_type": "code",
   "execution_count": 153,
   "metadata": {},
   "outputs": [
    {
     "data": {
      "text/plain": [
       "48"
      ]
     },
     "execution_count": 153,
     "metadata": {},
     "output_type": "execute_result"
    }
   ],
   "source": []
  },
  {
   "cell_type": "markdown",
   "metadata": {},
   "source": [
    "#### Discussion 1.2.1: Re-Encode Categorical Features\n",
    "\n",
    "I found four binary features, one of which was non numeric. For this variable (OST_WEST_KZ), I encoded 'W' as 0 and 'O' as 1. I also found 14 multi-level features with more than 2 unique values for each fature. For simplicity, I dropped these columns. We'll proceed with 43 non multi-level features. "
   ]
  },
  {
   "cell_type": "markdown",
   "metadata": {},
   "source": [
    "#### Step 1.2.2: Engineer Mixed-Type Features\n",
    "\n",
    "There are a handful of features that are marked as \"mixed\" in the feature summary that require special treatment in order to be included in the analysis. There are two in particular that deserve attention; the handling of the rest are up to your own choices:\n",
    "- \"PRAEGENDE_JUGENDJAHRE\" combines information on three dimensions: generation by decade, movement (mainstream vs. avantgarde), and nation (east vs. west). While there aren't enough levels to disentangle east from west, you should create two new variables to capture the other two dimensions: an interval-type variable for decade, and a binary variable for movement.\n",
    "- \"CAMEO_INTL_2015\" combines information on two axes: wealth and life stage. Break up the two-digit codes by their 'tens'-place and 'ones'-place digits into two new ordinal variables (which, for the purposes of this project, is equivalent to just treating them as their raw numeric values).\n",
    "- If you decide to keep or engineer new features around the other mixed-type features, make sure you note your steps in the Discussion section.\n",
    "\n",
    "Be sure to check `Data_Dictionary.md` for the details needed to finish these tasks."
   ]
  },
  {
   "cell_type": "code",
   "execution_count": 35,
   "metadata": {},
   "outputs": [
    {
     "name": "stdout",
     "output_type": "stream",
     "text": [
      "                attribute information_level   type missing_or_unknown\n",
      "15    LP_LEBENSPHASE_FEIN            person  mixed                [0]\n",
      "16    LP_LEBENSPHASE_GROB            person  mixed                [0]\n",
      "22  PRAEGENDE_JUGENDJAHRE            person  mixed            [-1, 0]\n",
      "56               WOHNLAGE          building  mixed               [-1]\n",
      "59        CAMEO_INTL_2015     microcell_rr4  mixed           [-1, XX]\n",
      "64           KBA05_BAUMAX     microcell_rr3  mixed            [-1, 0]\n",
      "79            PLZ8_BAUMAX    macrocell_plz8  mixed            [-1, 0]\n"
     ]
    }
   ],
   "source": [
    "# view mixed features. Note, not all of these are currently in the dataset we're cleaning. \n",
    "    # Some may have already been dropped\n",
    "mixed_features = feat_info[feat_info['type']=='mixed']\n",
    "print(mixed_features)"
   ]
  },
  {
   "cell_type": "code",
   "execution_count": 36,
   "metadata": {},
   "outputs": [],
   "source": [
    "# Investigate \"PRAEGENDE_JUGENDJAHRE\" and engineer two new variables.\n",
    "\n",
    "# 1.18. PRAEGENDE_JUGENDJAHRE\n",
    "# interval type for decade and binary for movement \n",
    "\n",
    "# decade - 40s = 1, 50s = 2, 60s = 3, 70 = 4, 80s = 5, 90s = 6\n",
    "decade_mapping = {1: 1, 2: 1, 3: 2, 4: 2, 5: 3, 6: 3, \n",
    "                  7: 3, 8: 4, 9: 4, 10: 5, 11: 5, 12: 5,\n",
    "                 13: 5, 14: 6, 15: 6}\n",
    "\n",
    "# mainstream = 0, avantgarde = 1\n",
    "movement_mapping = {1: 0, 2: 1, 3: 0, 4: 1, 5: 0, 6: 1, 7: 1, 8: 0, \n",
    "                    9: 1, 10: 0, 11: 1, 12: 0, 13: 1, 14: 0, 15: 1}\n",
    "\n",
    "azdias_clean['DECADE'] = azdias_clean['PRAEGENDE_JUGENDJAHRE'].replace(decade_mapping)\n",
    "azdias_clean['MOVEMENT'] = azdias_clean['PRAEGENDE_JUGENDJAHRE'].replace(movement_mapping)\n"
   ]
  },
  {
   "cell_type": "code",
   "execution_count": 37,
   "metadata": {},
   "outputs": [
    {
     "name": "stdout",
     "output_type": "stream",
     "text": [
      "unique decade values:  [  6.   4.   2.   5.   3.  nan   1.]\n",
      "unique movement values:  [  0.   1.  nan]\n"
     ]
    }
   ],
   "source": [
    "print(\"unique decade values: \", azdias_clean['DECADE'].unique()) \n",
    "print(\"unique movement values: \",azdias_clean['MOVEMENT'].unique()) \n"
   ]
  },
  {
   "cell_type": "code",
   "execution_count": null,
   "metadata": {},
   "outputs": [],
   "source": []
  },
  {
   "cell_type": "code",
   "execution_count": 38,
   "metadata": {},
   "outputs": [],
   "source": [
    "# Investigate \"CAMEO_INTL_2015\" and engineer two new variables.\n",
    "# create wealth and life stage \n",
    "### 4.3. CAMEO_INTL_2015 in data_dictionary \n",
    "\n",
    "# Poorer Households = 1, Less Affluent Households = 2, Comfortable Households = 3\n",
    "# Prosperous Households = 4, Wealthy Households = 5\n",
    "def wealth_mapping(x):\n",
    "    if x in ('51', '52', '53', '54', '55'): \n",
    "        return 1\n",
    "    if x in ('41', '42', '43', '44', '45'):\n",
    "        return 2\n",
    "    if x in ('31', '32', '33', '34', '35'):\n",
    "        return 3\n",
    "    if x in ('21', '22', '23', '24', '25'):\n",
    "        return 4\n",
    "    if x in ('11', '12', '13', '14', '15'):\n",
    "        return 5\n",
    "\n",
    "# Pre-Family Couples & Singles = 1, Young Couples With Children = 2, \n",
    "# Families With School Age Children = 3, Older Families &  Mature Couples = 4\n",
    "# Elders In Retirement = 5\n",
    "def life_stage_mapping(x):\n",
    "    if x in ('11', '21', '31', '41', '51'):\n",
    "        return 1\n",
    "    if x in ('12', '22', '32', '42', '52'):\n",
    "        return 2\n",
    "    if x in ('13', '23', '33', '43', '53'):\n",
    "        return 3\n",
    "    if x in ('14', '24', '34', '44', '54'):\n",
    "        return 4\n",
    "    if x in ('15', '25', '35', '45', '55'):\n",
    "        return 5\n",
    "\n",
    "azdias_clean['WEALTH'] = azdias_clean['CAMEO_INTL_2015'].apply(wealth_mapping)\n",
    "azdias_clean['LIFE_STAGE'] = azdias_clean['CAMEO_INTL_2015'].apply(life_stage_mapping)\n"
   ]
  },
  {
   "cell_type": "code",
   "execution_count": 39,
   "metadata": {},
   "outputs": [
    {
     "name": "stdout",
     "output_type": "stream",
     "text": [
      "unique wealth values:  [  1.   4.   5.   2.   3.  nan]\n",
      "unique life stage values:  [  1.   4.   2.   3.   5.  nan]\n"
     ]
    }
   ],
   "source": [
    "print(\"unique wealth values: \", azdias_clean['WEALTH'].unique())\n",
    "print(\"unique life stage values: \", azdias_clean['LIFE_STAGE'].unique())\n"
   ]
  },
  {
   "cell_type": "code",
   "execution_count": 40,
   "metadata": {},
   "outputs": [
    {
     "name": "stdout",
     "output_type": "stream",
     "text": [
      "dataset currently has 53 columns\n",
      "dropped 5 columns from the dataset\n",
      "proceeding with 48 columns in dataset\n"
     ]
    }
   ],
   "source": [
    "# DROP OTHER MIXED VARIABLES \n",
    "mixed_features_to_drop = mixed_features['attribute'].values.tolist()\n",
    "print(\"dataset currently has {} columns\".format(len(list(azdias_clean))))\n",
    "\n",
    "features_dropped = []\n",
    "\n",
    "for f in mixed_features_to_drop:\n",
    "    if f in list(azdias_clean):\n",
    "        azdias_clean.drop(f, axis=1, inplace=True)\n",
    "        features_dropped.append(f)\n",
    "    else:\n",
    "        continue\n",
    "        \n",
    "print(\"dropped {} columns from the dataset\".format(len(features_dropped)))\n",
    "print(\"proceeding with {} columns in dataset\".format(len(list(azdias_clean))))"
   ]
  },
  {
   "cell_type": "code",
   "execution_count": 154,
   "metadata": {},
   "outputs": [],
   "source": [
    "# len(azdias_clean.columns)"
   ]
  },
  {
   "cell_type": "markdown",
   "metadata": {},
   "source": [
    "#### Discussion 1.2.2: Engineer Mixed-Type Features\n",
    "\n",
    "To practice, I coded the variables differently. For PRAEGENDE_JUGENDJAHRE, I use the replace method with a dictionary mapping and for CAMEO_INTL_2015, I created a couple functions and used the apply method. \n",
    "\n",
    "Before this step, we had 49 columns. We created 4 new columns by feature engineering PRAEGENDE_JUGENDJAHRE and CAMEO_INTL_2015, then dropped 5 columns. So, we'll be proceeding with 48 columns. "
   ]
  },
  {
   "cell_type": "markdown",
   "metadata": {},
   "source": [
    "#### Step 1.2.3: Complete Feature Selection\n",
    "\n",
    "In order to finish this step up, you need to make sure that your data frame now only has the columns that you want to keep. To summarize, the dataframe should consist of the following:\n",
    "- All numeric, interval, and ordinal type columns from the original dataset.\n",
    "- Binary categorical features (all numerically-encoded).\n",
    "- Engineered features from other multi-level categorical features and mixed features.\n",
    "\n",
    "Make sure that for any new columns that you have engineered, that you've excluded the original columns from the final dataset. Otherwise, their values will interfere with the analysis later on the project. For example, you should not keep \"PRAEGENDE_JUGENDJAHRE\", since its values won't be useful for the algorithm: only the values derived from it in the engineered features you created should be retained. As a reminder, your data should only be from **the subset with few or no missing values**."
   ]
  },
  {
   "cell_type": "code",
   "execution_count": 41,
   "metadata": {},
   "outputs": [
    {
     "name": "stdout",
     "output_type": "stream",
     "text": [
      "unique variable types remaining:  ['ordinal' 'categorical' 'numeric']\n",
      "\n",
      "ANREDE_KZ has 2 values\n",
      "values are  [2 1]\n",
      "\n",
      "GREEN_AVANTGARDE has 2 values\n",
      "values are  [0 1]\n",
      "\n",
      "SOHO_KZ has 2 values\n",
      "values are  [ 1.  0.]\n",
      "\n",
      "OST_WEST_KZ has 2 values\n",
      "values are  [0 1]\n"
     ]
    }
   ],
   "source": [
    "# If there are other re-engineering tasks you need to perform, make sure you\n",
    "# take care of them here. (Dealing with missing data will come in step 2.1.)\n",
    "\n",
    "# \n",
    "# feat_info for cols kept\n",
    "feat_info_clean = feat_info[feat_info['attribute'].isin(list(azdias_clean))]\n",
    "print(\"unique variable types remaining: \",feat_info_clean['type'].unique())\n",
    "\n",
    "# check that categorical variables are binary \n",
    "    # list of variables to potentially one hot encode \n",
    "categorical_cols = feat_info_clean[feat_info_clean['type'] == 'categorical']['attribute'].tolist()\n",
    "\n",
    "for col in categorical_cols:\n",
    "    print(\"\\n{} has {} values\".format(col, len(azdias_clean[col].unique())))\n",
    "    print(\"values are \", azdias_clean[col].unique())\n",
    "        \n",
    "# variables re-engineered and not in feat_info\n",
    "# DECADE (ordinal), MOVEMENT (binary), WEALTH (ordinal), LIFE_STAGE (ordinal)"
   ]
  },
  {
   "cell_type": "code",
   "execution_count": 42,
   "metadata": {},
   "outputs": [
    {
     "name": "stdout",
     "output_type": "stream",
     "text": [
      "data appears to be appropriately formatted\n"
     ]
    }
   ],
   "source": [
    "# Do whatever you need to in order to ensure that the dataframe only contains\n",
    "# the columns that should be passed to the algorithm functions.\n",
    "\n",
    "print(\"data appears to be appropriately formatted\")\n"
   ]
  },
  {
   "cell_type": "markdown",
   "metadata": {},
   "source": [
    "### Step 1.3: Create a Cleaning Function\n",
    "\n",
    "Even though you've finished cleaning up the general population demographics data, it's important to look ahead to the future and realize that you'll need to perform the same cleaning steps on the customer demographics data. In this substep, complete the function below to execute the main feature selection, encoding, and re-engineering steps you performed above. Then, when it comes to looking at the customer data in Step 3, you can just run this function on that DataFrame to get the trimmed dataset in a single step."
   ]
  },
  {
   "cell_type": "code",
   "execution_count": 43,
   "metadata": {},
   "outputs": [],
   "source": [
    "def clean_data(df):\n",
    "    \"\"\"\n",
    "    Perform feature trimming, re-encoding, and engineering for demographics\n",
    "    data\n",
    "    \n",
    "    INPUT: Demographics DataFrame\n",
    "    OUTPUT: Trimmed and cleaned demographics DataFrame\n",
    "    \"\"\"\n",
    "    \n",
    "    # Put in code here to execute all main cleaning steps:\n",
    "    \n",
    "    # summarize input df\n",
    "    print(\"df has {} rows and {} columns\".format(len(df), len(list(df))))\n",
    "\n",
    "    ##### Step 1) convert missing value codes into NaNs ##### \n",
    "    print(\"\\n#### step 1) converting missing values codes into NaNs\")\n",
    "    \n",
    "    # feat_info['missing_or_unknown'] already defined in notebook \n",
    "\n",
    "    # check amount of originally encoded nans\n",
    "    # save original counts and series for potential analysis later \n",
    "    original_nan_count = df.isnull().sum().sum()\n",
    "\n",
    "    # replace missing_or_unknown values w/nans \n",
    "    for i in range(0, len(feat_info)): \n",
    "        attribute = feat_info.iloc[i]['attribute']\n",
    "        nan_values = feat_info.iloc[i]['missing_or_unknown']\n",
    "        for v in nan_values:\n",
    "            df[attribute] = df[attribute].replace(v, np.nan)\n",
    "\n",
    "    # save amount of nans after coding missing_or_unknown as a count and series\n",
    "    actual_nan_count = df.isnull().sum().sum()\n",
    "\n",
    "    # print summary of NaNs encoded \n",
    "    print(\"\\nfinished encoding NaNs\")\n",
    "    print('\\nData has {} original NaN and {} actual NaNs after coding missing_or_unknown values'.format(original_nan_count, actual_nan_count))\n",
    "\n",
    "\n",
    "    ##### Step 2) remove selected columns and rows ##### \n",
    "    print(\"\\n#### step 2) removing selected columns and rows\")\n",
    "    \n",
    "    # keep same cols as azdias \n",
    "        # using a percentile cutoff might produce different results \n",
    "    df_clean_cols = azdias[keep_cols]\n",
    "\n",
    "    # row cutoff can be a percentile\n",
    "    row_nan_series = df_clean_cols.isnull().sum(axis=1)\n",
    "    row_cutoff = row_nan_series.describe()['75%']\n",
    "\n",
    "    # create subset with at least 75% of row values filled\n",
    "    df_clean_col_rows = df_clean_cols[df_clean_cols.isnull().sum(axis=1) <= row_cutoff]\n",
    "    print(\"\\nfinished removing selected columns and rows\")\n",
    "\n",
    "\n",
    "    ##### Step 3) select, re-encode, and engineer column values ##### \n",
    "    print(\"\\n#### step 3) selecting, re-encoding, and engineering columns\")\n",
    "    \n",
    "    # Re-encode categorical variable(s) to be kept in the analysis.\n",
    "\n",
    "    # drop multilevel variables\n",
    "    # multi_level_features already defined in notebook\n",
    "    df_clean = df_clean_col_rows.drop(labels=multi_level_features, axis=1)\n",
    "    print(\"\\ndropped {} multi level columns\".format(len(multi_level_features)))\n",
    "\n",
    "    # re-encode binary non-numeric variable \n",
    "    df_clean = df_clean.replace({'OST_WEST_KZ':{'W': 0, 'O': 1}})\n",
    "    print(\"\\nre-encoded binary non-numeric column\")\n",
    "\n",
    "    print(\"\\nproceeding with {} columns\".format(len(list(df_clean))))\n",
    "\n",
    "    # engineer two new variables from \"PRAEGENDE_JUGENDJAHRE\"\n",
    "    # mapping already defined in notebook \n",
    "    df_clean['DECADE'] = df_clean['PRAEGENDE_JUGENDJAHRE'].replace(decade_mapping)\n",
    "    df_clean['MOVEMENT'] = df_clean['PRAEGENDE_JUGENDJAHRE'].replace(movement_mapping)\n",
    "\n",
    "    # engineer two new variables for \"CAMEO_INTL_2015\"\n",
    "    # mapping already defined in notebook \n",
    "    df_clean['WEALTH'] = df_clean['CAMEO_INTL_2015'].apply(wealth_mapping)\n",
    "    df_clean['LIFE_STAGE'] = df_clean['CAMEO_INTL_2015'].apply(life_stage_mapping)\n",
    "\n",
    "    # DROP OTHER MIXED VARIABLES \n",
    "    # mixed_features_to_drop = mixed_features['attribute'].values.tolist()\n",
    "        # already defined in notebook\n",
    "    print(\"\\ndataset currently has {} columns\".format(len(list(df_clean))))\n",
    "\n",
    "    features_dropped = []\n",
    "\n",
    "    for f in mixed_features_to_drop:\n",
    "        if f in list(df_clean):\n",
    "            df_clean.drop(f, axis=1, inplace=True)\n",
    "            features_dropped.append(f)\n",
    "        else:\n",
    "            continue\n",
    "            \n",
    "    print(\"\\ndropped {} columns from the dataset\".format(len(features_dropped)))\n",
    "\n",
    "    print(\"\\nfinal df contains\")\n",
    "    print(\"{} columns and {} rows\".format(len(list(df_clean)), len(df_clean)))\n",
    "     \n",
    "    \n",
    "    # Return the cleaned dataframe.\n",
    "    return df_clean\n",
    "    \n"
   ]
  },
  {
   "cell_type": "code",
   "execution_count": null,
   "metadata": {},
   "outputs": [],
   "source": []
  },
  {
   "cell_type": "markdown",
   "metadata": {},
   "source": [
    "## Step 2: Feature Transformation\n",
    "\n",
    "### Step 2.1: Apply Feature Scaling\n",
    "\n",
    "Before we apply dimensionality reduction techniques to the data, we need to perform feature scaling so that the principal component vectors are not influenced by the natural differences in scale for features. Starting from this part of the project, you'll want to keep an eye on the [API reference page for sklearn](http://scikit-learn.org/stable/modules/classes.html) to help you navigate to all of the classes and functions that you'll need. In this substep, you'll need to check the following:\n",
    "\n",
    "- sklearn requires that data not have missing values in order for its estimators to work properly. So, before applying the scaler to your data, make sure that you've cleaned the DataFrame of the remaining missing values. This can be as simple as just removing all data points with missing data, or applying an [Imputer](http://scikit-learn.org/stable/modules/generated/sklearn.preprocessing.Imputer.html) to replace all missing values. You might also try a more complicated procedure where you temporarily remove missing values in order to compute the scaling parameters before re-introducing those missing values and applying imputation. Think about how much missing data you have and what possible effects each approach might have on your analysis, and justify your decision in the discussion section below.\n",
    "- For the actual scaling function, a [StandardScaler](http://scikit-learn.org/stable/modules/generated/sklearn.preprocessing.StandardScaler.html) instance is suggested, scaling each feature to mean 0 and standard deviation 1.\n",
    "- For these classes, you can make use of the `.fit_transform()` method to both fit a procedure to the data as well as apply the transformation to the data at the same time. Don't forget to keep the fit sklearn objects handy, since you'll be applying them to the customer demographics data towards the end of the project."
   ]
  },
  {
   "cell_type": "code",
   "execution_count": 44,
   "metadata": {},
   "outputs": [],
   "source": [
    "# If you've not yet cleaned the dataset of all NaN values, \n",
    "# then investigate and do that now.\n",
    "imp = Imputer(strategy='most_frequent')\n",
    "azdias_clean_imp = pd.DataFrame(imp.fit_transform(azdias_clean))\n",
    "\n",
    "# apply same cols and index to imp data \n",
    "azdias_clean_imp.columns = azdias_clean.columns\n",
    "azdias_clean_imp.index = azdias_clean.index\n"
   ]
  },
  {
   "cell_type": "code",
   "execution_count": 45,
   "metadata": {},
   "outputs": [],
   "source": [
    "# Apply feature scaling to the general population demographics data.\n",
    "scaler = StandardScaler() \n",
    "azdias_clean_imp_scaled = scaler.fit_transform(azdias_clean_imp)\n",
    "\n",
    "# convert np array to dataframe\n",
    "azdias_clean_imp_scaled = pd.DataFrame(azdias_clean_imp_scaled, columns=list(azdias_clean_imp))\n"
   ]
  },
  {
   "cell_type": "code",
   "execution_count": 141,
   "metadata": {},
   "outputs": [],
   "source": [
    "\n",
    "# azdias_clean_imp_scaled.isnull().sum()"
   ]
  },
  {
   "cell_type": "markdown",
   "metadata": {},
   "source": [
    "### Discussion 2.1: Apply Feature Scaling\n",
    "\n",
    "I imputed missing values with most frequent values. This may overrepresent the most frequent value for variables with missing data, but I believe the bias that imputing most frequent introduces is less than the bias that would result in dropping observations with any missing data completely. \n",
    "\n",
    "I also used the StandardScaler to scale each feature ot a mean of 0 and standard deviation of 1. \n"
   ]
  },
  {
   "cell_type": "markdown",
   "metadata": {},
   "source": [
    "### Step 2.2: Perform Dimensionality Reduction\n",
    "\n",
    "On your scaled data, you are now ready to apply dimensionality reduction techniques.\n",
    "\n",
    "- Use sklearn's [PCA](http://scikit-learn.org/stable/modules/generated/sklearn.decomposition.PCA.html) class to apply principal component analysis on the data, thus finding the vectors of maximal variance in the data. To start, you should not set any parameters (so all components are computed) or set a number of components that is at least half the number of features (so there's enough features to see the general trend in variability).\n",
    "- Check out the ratio of variance explained by each principal component as well as the cumulative variance explained. Try plotting the cumulative or sequential values using matplotlib's [`plot()`](https://matplotlib.org/api/_as_gen/matplotlib.pyplot.plot.html) function. Based on what you find, select a value for the number of transformed features you'll retain for the clustering part of the project.\n",
    "- Once you've made a choice for the number of components to keep, make sure you re-fit a PCA instance to perform the decided-on transformation."
   ]
  },
  {
   "cell_type": "code",
   "execution_count": null,
   "metadata": {},
   "outputs": [],
   "source": []
  },
  {
   "cell_type": "code",
   "execution_count": 47,
   "metadata": {},
   "outputs": [],
   "source": [
    "# Apply PCA to the data.\n",
    "    # do not set n_components \n",
    "pca = PCA()\n",
    "X_pca = pd.DataFrame(pca.fit_transform(azdias_clean_imp_scaled))"
   ]
  },
  {
   "cell_type": "code",
   "execution_count": 48,
   "metadata": {},
   "outputs": [
    {
     "data": {
      "image/png": "[encoded data removed]",
      "text/plain": [
       "<matplotlib.figure.Figure at 0x7fe64f269978>"
      ]
     },
     "metadata": {
      "needs_background": "light"
     },
     "output_type": "display_data"
    }
   ],
   "source": [
    "# Investigate the variance accounted for by each principal component.\n",
    "\n",
    "#function taken from interpret pca results lesson \n",
    "def scree_plot(pca):\n",
    "    '''\n",
    "    Creates a scree plot associated with the principal components \n",
    "    \n",
    "    INPUT: pca - the result of instantian of PCA in scikit learn\n",
    "            \n",
    "    OUTPUT:\n",
    "            None\n",
    "    '''\n",
    "    num_components = len(pca.explained_variance_ratio_)\n",
    "    ind = np.arange(num_components)\n",
    "    vals = pca.explained_variance_ratio_\n",
    " \n",
    "    plt.figure(figsize=(10, 6))\n",
    "    ax = plt.subplot(111)\n",
    "    cumvals = np.cumsum(vals)\n",
    "    ax.bar(ind, vals)\n",
    "    ax.plot(ind, cumvals)\n",
    "    for i in range(num_components):\n",
    "        ax.annotate(r\"%s%%\" % ((str(vals[i]*100)[:4])), (ind[i]+0.2, vals[i]), va=\"bottom\", ha=\"center\", fontsize=12)\n",
    " \n",
    "    ax.xaxis.set_tick_params(width=0)\n",
    "    ax.yaxis.set_tick_params(width=2, length=12)\n",
    " \n",
    "    ax.set_xlabel(\"Principal Component\")\n",
    "    ax.set_ylabel(\"Variance Explained (%)\")\n",
    "    plt.title('Explained Variance Per Principal Component')\n",
    "    \n",
    "\n",
    "scree_plot(pca)"
   ]
  },
  {
   "cell_type": "code",
   "execution_count": 49,
   "metadata": {},
   "outputs": [
    {
     "name": "stdout",
     "output_type": "stream",
     "text": [
      "pc: 0 var expl: 18.8 cum var expl: 18.8\n",
      "pc: 1 var expl: 13.4 cum var expl: 32.1\n",
      "pc: 2 var expl: 11.3 cum var expl: 43.4\n",
      "pc: 3 var expl: 6.2 cum var expl: 49.6\n",
      "pc: 4 var expl: 3.4 cum var expl: 52.9\n",
      "pc: 5 var expl: 3.1 cum var expl: 56.0\n",
      "pc: 6 var expl: 2.9 cum var expl: 58.9\n",
      "pc: 7 var expl: 2.6 cum var expl: 61.6\n",
      "pc: 8 var expl: 2.5 cum var expl: 64.1\n",
      "pc: 9 var expl: 2.3 cum var expl: 66.4\n",
      "pc: 10 var expl: 2.2 cum var expl: 68.6\n",
      "pc: 11 var expl: 2.1 cum var expl: 70.7\n",
      "pc: 12 var expl: 2.1 cum var expl: 72.8\n",
      "pc: 13 var expl: 1.9 cum var expl: 74.7\n",
      "pc: 14 var expl: 1.8 cum var expl: 76.6\n",
      "pc: 15 var expl: 1.8 cum var expl: 78.4\n",
      "pc: 16 var expl: 1.7 cum var expl: 80.1\n",
      "pc: 17 var expl: 1.6 cum var expl: 81.6\n",
      "pc: 18 var expl: 1.4 cum var expl: 83.0\n",
      "pc: 19 var expl: 1.2 cum var expl: 84.2\n",
      "pc: 20 var expl: 1.1 cum var expl: 85.3\n",
      "pc: 21 var expl: 1.1 cum var expl: 86.4\n",
      "pc: 22 var expl: 1.1 cum var expl: 87.5\n",
      "pc: 23 var expl: 1.0 cum var expl: 88.5\n",
      "pc: 24 var expl: 0.9 cum var expl: 89.4\n",
      "pc: 25 var expl: 0.9 cum var expl: 90.3\n",
      "pc: 26 var expl: 0.8 cum var expl: 91.1\n",
      "pc: 27 var expl: 0.8 cum var expl: 91.9\n",
      "pc: 28 var expl: 0.7 cum var expl: 92.6\n",
      "pc: 29 var expl: 0.7 cum var expl: 93.3\n",
      "pc: 30 var expl: 0.7 cum var expl: 94.0\n",
      "pc: 31 var expl: 0.6 cum var expl: 94.6\n",
      "pc: 32 var expl: 0.6 cum var expl: 95.1\n",
      "pc: 33 var expl: 0.5 cum var expl: 95.7\n",
      "pc: 34 var expl: 0.5 cum var expl: 96.2\n",
      "pc: 35 var expl: 0.5 cum var expl: 96.7\n",
      "pc: 36 var expl: 0.5 cum var expl: 97.1\n",
      "pc: 37 var expl: 0.4 cum var expl: 97.6\n",
      "pc: 38 var expl: 0.4 cum var expl: 98.0\n",
      "pc: 39 var expl: 0.4 cum var expl: 98.3\n",
      "pc: 40 var expl: 0.3 cum var expl: 98.7\n",
      "pc: 41 var expl: 0.3 cum var expl: 99.0\n",
      "pc: 42 var expl: 0.3 cum var expl: 99.2\n",
      "pc: 43 var expl: 0.2 cum var expl: 99.5\n",
      "pc: 44 var expl: 0.2 cum var expl: 99.7\n",
      "pc: 45 var expl: 0.2 cum var expl: 99.9\n",
      "pc: 46 var expl: 0.1 cum var expl: 100.0\n",
      "pc: 47 var expl: 0.0 cum var expl: 100.0\n"
     ]
    }
   ],
   "source": [
    "expl_var = pca.explained_variance_ratio_.tolist()\n",
    "cum_expl_var = np.cumsum(pca.explained_variance_ratio_).tolist()\n",
    "expl_var_sum = zip(expl_var, cum_expl_var)\n",
    "pc = 0\n",
    "for a, b in expl_var_sum:\n",
    "    expl_var = round(a*100, 1)\n",
    "    cum_expl_var = round(b*100, 1)\n",
    "    print(\"pc:\", pc, \"var expl:\", expl_var, \n",
    "          \"cum var expl:\", cum_expl_var)\n",
    "    pc += 1 \n"
   ]
  },
  {
   "cell_type": "code",
   "execution_count": 50,
   "metadata": {},
   "outputs": [],
   "source": [
    "# Re-apply PCA to the data while selecting for number of components to retain.\n",
    "pca = PCA(24)\n",
    "azdias_pca = pd.DataFrame(pca.fit_transform(azdias_clean_imp_scaled))\n"
   ]
  },
  {
   "cell_type": "code",
   "execution_count": null,
   "metadata": {},
   "outputs": [],
   "source": []
  },
  {
   "cell_type": "markdown",
   "metadata": {},
   "source": [
    "### Discussion 2.2: Perform Dimensionality Reduction\n",
    "\n",
    "I used 24 components because it's half the columns available in my cleaned dataset and 24 principal components explain almost 90% (89.4%) of the variance in the data. \n"
   ]
  },
  {
   "cell_type": "markdown",
   "metadata": {},
   "source": [
    "### Step 2.3: Interpret Principal Components\n",
    "\n",
    "Now that we have our transformed principal components, it's a nice idea to check out the weight of each variable on the first few components to see if they can be interpreted in some fashion.\n",
    "\n",
    "As a reminder, each principal component is a unit vector that points in the direction of highest variance (after accounting for the variance captured by earlier principal components). The further a weight is from zero, the more the principal component is in the direction of the corresponding feature. If two features have large weights of the same sign (both positive or both negative), then increases in one tend expect to be associated with increases in the other. To contrast, features with different signs can be expected to show a negative correlation: increases in one variable should result in a decrease in the other.\n",
    "\n",
    "- To investigate the features, you should map each weight to their corresponding feature name, then sort the features according to weight. The most interesting features for each principal component, then, will be those at the beginning and end of the sorted list. Use the data dictionary document to help you understand these most prominent features, their relationships, and what a positive or negative value on the principal component might indicate.\n",
    "- You should investigate and interpret feature associations from the first three principal components in this substep. To help facilitate this, you should write a function that you can call at any time to print the sorted list of feature weights, for the *i*-th principal component. This might come in handy in the next step of the project, when you interpret the tendencies of the discovered clusters."
   ]
  },
  {
   "cell_type": "code",
   "execution_count": 63,
   "metadata": {},
   "outputs": [
    {
     "name": "stdout",
     "output_type": "stream",
     "text": [
      "                             PC    PC_abs\n",
      "ALTERSKATEGORIE_GROB  -0.288157  0.288157\n",
      "FINANZ_SPARER          0.282184  0.282184\n",
      "SEMIO_REL              0.278561  0.278561\n",
      "DECADE                 0.261072  0.261072\n",
      "FINANZ_VORSORGER      -0.259008  0.259008\n",
      "SEMIO_PFLICHT          0.258029  0.258029\n",
      "SEMIO_TRADV            0.247926  0.247926\n",
      "SEMIO_ERL             -0.238013  0.238013\n",
      "FINANZ_UNAUFFAELLIGER  0.233041  0.233041\n",
      "SEMIO_KULT             0.222143  0.222143\n"
     ]
    }
   ],
   "source": [
    "# Map weights for the first principal component to corresponding feature names\n",
    "# and then print the linked values, sorted by weight.\n",
    "# HINT: Try defining a function here or in a new cell that you can reuse in the\n",
    "# other cells.\n",
    "\n",
    "def print_pc_weights(pc, data):\n",
    "    # get df of pca components weight\n",
    "    df = pd.DataFrame(pca.components_[pc])\n",
    "    # map index to col names \n",
    "    df.index = data.columns\n",
    "    # name col\n",
    "    df.columns = ['PC']\n",
    "    df['PC_abs'] = df['PC'].abs()\n",
    "    # sort values for readability \n",
    "    df.sort_values(by=['PC_abs'], ascending=False, inplace=True)\n",
    "    return df\n",
    "\n",
    "pc1 = print_pc_weights(0, azdias_clean_imp_scaled)\n",
    "print(pc1[:10])"
   ]
  },
  {
   "cell_type": "code",
   "execution_count": 64,
   "metadata": {},
   "outputs": [
    {
     "name": "stdout",
     "output_type": "stream",
     "text": [
      "                         PC    PC_abs\n",
      "SEMIO_KAEM         0.323513  0.323513\n",
      "ANREDE_KZ          0.315470  0.315470\n",
      "SEMIO_VERT        -0.313902  0.313902\n",
      "SEMIO_DOM          0.281368  0.281368\n",
      "SEMIO_KRIT         0.253398  0.253398\n",
      "FINANZ_MINIMALIST -0.240866  0.240866\n",
      "SEMIO_KULT        -0.211521  0.211521\n",
      "SEMIO_FAM         -0.207769  0.207769\n",
      "SEMIO_SOZ         -0.204332  0.204332\n",
      "FINANZ_HAUSBAUER   0.192825  0.192825\n"
     ]
    }
   ],
   "source": [
    "# Map weights for the second principal component to corresponding feature names\n",
    "# and then print the linked values, sorted by weight.\n",
    "pc2 = print_pc_weights(1, azdias_clean_imp_scaled)\n",
    "print(pc2[:10])\n"
   ]
  },
  {
   "cell_type": "code",
   "execution_count": 65,
   "metadata": {},
   "outputs": [
    {
     "name": "stdout",
     "output_type": "stream",
     "text": [
      "                          PC    PC_abs\n",
      "ORTSGR_KLS9         0.278622  0.278622\n",
      "EWDICHTE            0.273713  0.273713\n",
      "INNENSTADT         -0.238763  0.238763\n",
      "WEALTH             -0.237514  0.237514\n",
      "KONSUMNAEHE        -0.217868  0.217868\n",
      "ARBEIT              0.215661  0.215661\n",
      "HH_EINKOMMEN_SCORE  0.202446  0.202446\n",
      "ANREDE_KZ          -0.201095  0.201095\n",
      "RELAT_AB            0.200663  0.200663\n",
      "BALLRAUM           -0.193923  0.193923\n"
     ]
    }
   ],
   "source": [
    "# Map weights for the third principal component to corresponding feature names\n",
    "# and then print the linked values, sorted by weight.\n",
    "pc3 = print_pc_weights(2, azdias_clean_imp_scaled)\n",
    "print(pc3[:10])\n"
   ]
  },
  {
   "cell_type": "markdown",
   "metadata": {},
   "source": [
    "### Discussion 2.3: Interpret Principal Components\n",
    "\n",
    "Principal component 1 appears to be an indicator for age and some asosciated financial and peronality traits. Though some relationships are counterintuitive, for the most part, it seems as though higher values for the first principal component indicate that, in general, the person is younger (ALTERSKATEGORIE_GROB, DECADE), less of a money saver (FINANZ_SPARER), less traditional and cultural minded (SEMIO_TRADV, SEMIO_KULT). At the same time, higher values for this principal component indicate that, in general, the person is more financially prepared (FINANZ_VORSORGER) and more religious (SEMIO_REL). Perhaps this latent feature will help us identify customer segments that may be more likely to spend/engage. \n",
    "\n",
    "Principal component 2 appears to be an indicator for free spiritness. Those who have higher values for this principal component tend to be less combative (SEMIO_KAEM), more dreamful (SEMIO_VERT), less dominant minded (SEMIO_DOM), less critical minded (SEMIO_KRIT), more cultural minded (SEMIO_KULT), more family minded (SEMIO_FAM), and more socially minded (SEMIO_SOZ). On the financial dimension, these people tend to have lower financial interest (FINANZ_MINIMALIST), potentially not valuing money and goods that money can afford, and lower home ownership (FINANZ_HAUSBAUER). \n",
    "\n",
    "Principal component 3 appears to be a measure of the extent to which person is in an urban and poor area. People with higher levels of this principal component tend to live in areas that have a bigger community (ORTSGR_KLS9), denser area (EWDICHTE), closer to the city center (INNENSTADT), closer to the urban center (BALLRAUM). These people also tend to be poorer (WEALTH), have higher unemployment (ARBEIT, RELAT_AB), and lower income (HH_EINKOMMEN_SCORE).\n"
   ]
  },
  {
   "cell_type": "markdown",
   "metadata": {},
   "source": [
    "## Step 3: Clustering\n",
    "\n",
    "### Step 3.1: Apply Clustering to General Population\n",
    "\n",
    "You've assessed and cleaned the demographics data, then scaled and transformed them. Now, it's time to see how the data clusters in the principal components space. In this substep, you will apply k-means clustering to the dataset and use the average within-cluster distances from each point to their assigned cluster's centroid to decide on a number of clusters to keep.\n",
    "\n",
    "- Use sklearn's [KMeans](http://scikit-learn.org/stable/modules/generated/sklearn.cluster.KMeans.html#sklearn.cluster.KMeans) class to perform k-means clustering on the PCA-transformed data.\n",
    "- Then, compute the average difference from each point to its assigned cluster's center. **Hint**: The KMeans object's `.score()` method might be useful here, but note that in sklearn, scores tend to be defined so that larger is better. Try applying it to a small, toy dataset, or use an internet search to help your understanding.\n",
    "- Perform the above two steps for a number of different cluster counts. You can then see how the average distance decreases with an increasing number of clusters. However, each additional cluster provides a smaller net benefit. Use this fact to select a final number of clusters in which to group the data. **Warning**: because of the large size of the dataset, it can take a long time for the algorithm to resolve. The more clusters to fit, the longer the algorithm will take. You should test for cluster counts through at least 10 clusters to get the full picture, but you shouldn't need to test for a number of clusters above about 30.\n",
    "- Once you've selected a final number of clusters to use, re-fit a KMeans instance to perform the clustering operation. Make sure that you also obtain the cluster assignments for the general demographics data, since you'll be using them in the final Step 3.3."
   ]
  },
  {
   "cell_type": "code",
   "execution_count": 54,
   "metadata": {},
   "outputs": [],
   "source": [
    "from sklearn.cluster import KMeans"
   ]
  },
  {
   "cell_type": "code",
   "execution_count": 55,
   "metadata": {},
   "outputs": [],
   "source": [
    "# Over a number of different cluster counts\n",
    "# run k-means clustering on the data and \n",
    "# compute the average within-cluster distances.\n",
    "\n",
    "# function taken from lesson 1 clustering - screencast: solution\n",
    "def kmeans_score(n_clusters, data):\n",
    "    '''\n",
    "    returns the kmeans score regarding SSE for points to centers\n",
    "    INPUT:\n",
    "        data - the dataset you want to fit kmeans to\n",
    "        center - the number of centers you want (the k value)\n",
    "    OUTPUT:\n",
    "        score - the SSE score for the kmeans model fit to the data\n",
    "    '''\n",
    "    #instantiate kmeans\n",
    "    kmeans = KMeans(n_clusters=n_clusters)\n",
    "\n",
    "    # Then fit the model to your data using the fit method\n",
    "    model = kmeans.fit(data)\n",
    "    \n",
    "    # Obtain a score related to the model fit\n",
    "    score = np.abs(model.score(data))\n",
    "    \n",
    "    return score\n",
    "\n",
    "scores = []\n",
    "for i in range(1, 11):\n",
    "    s = kmeans_score(i, azdias_pca)\n",
    "    scores.append(s)\n"
   ]
  },
  {
   "cell_type": "code",
   "execution_count": 56,
   "metadata": {},
   "outputs": [
    {
     "data": {
      "text/plain": [
       "Text(0,0.5,'SSE')"
      ]
     },
     "execution_count": 56,
     "metadata": {},
     "output_type": "execute_result"
    },
    {
     "data": {
      "image/png": "[encoded data removed]",
      "text/plain": [
       "<matplotlib.figure.Figure at 0x7fe650e365f8>"
      ]
     },
     "metadata": {
      "needs_background": "light"
     },
     "output_type": "display_data"
    }
   ],
   "source": [
    "# Investigate the change in within-cluster distance across number of clusters.\n",
    "# HINT: Use matplotlib's plot function to visualize this relationship.\n",
    "\n",
    "# plot code taken from lesson 1 clustering - screencast: solution\n",
    "plt.plot(range(1,11), scores, linestyle='-', marker='o')\n",
    "plt.xlabel('Clusters')\n",
    "plt.ylabel('SSE')\n"
   ]
  },
  {
   "cell_type": "code",
   "execution_count": 57,
   "metadata": {},
   "outputs": [
    {
     "data": {
      "text/plain": [
       "[32966708.371311393,\n",
       " 27624348.990325797,\n",
       " 24990729.884869397,\n",
       " 22993797.605674807,\n",
       " 21890574.372153595,\n",
       " 20843509.49678601,\n",
       " 20078785.153657034,\n",
       " 19611603.732183799,\n",
       " 19062377.772714175,\n",
       " 18330966.587964058]"
      ]
     },
     "execution_count": 57,
     "metadata": {},
     "output_type": "execute_result"
    }
   ],
   "source": [
    "scores"
   ]
  },
  {
   "cell_type": "code",
   "execution_count": 66,
   "metadata": {},
   "outputs": [],
   "source": [
    "# Re-fit the k-means model with the selected number of clusters and obtain\n",
    "# cluster predictions for the general population demographics data.\n",
    "\n",
    "kmeans = KMeans(n_clusters=6)\n",
    "k_means_model = kmeans.fit(azdias_pca)\n",
    "azdias_pca_pred = model.predict(azdias_pca)\n",
    "\n"
   ]
  },
  {
   "cell_type": "code",
   "execution_count": 59,
   "metadata": {},
   "outputs": [
    {
     "data": {
      "text/plain": [
       "array([0, 1, 2, 3, 4, 5], dtype=int32)"
      ]
     },
     "execution_count": 59,
     "metadata": {},
     "output_type": "execute_result"
    }
   ],
   "source": [
    "np.unique(azdias_pca_pred)"
   ]
  },
  {
   "cell_type": "markdown",
   "metadata": {},
   "source": [
    "### Discussion 3.1: Apply Clustering to General Population\n",
    "\n",
    "I chose 6 clusters because this appears to be the elbow where increasing the number of clusters (k) no longer leads to significant decrease from center (i.e. the returns in SSE apear to be dimishing after this point)"
   ]
  },
  {
   "cell_type": "markdown",
   "metadata": {},
   "source": [
    "### Step 3.2: Apply All Steps to the Customer Data\n",
    "\n",
    "Now that you have clusters and cluster centers for the general population, it's time to see how the customer data maps on to those clusters. Take care to not confuse this for re-fitting all of the models to the customer data. Instead, you're going to use the fits from the general population to clean, transform, and cluster the customer data. In the last step of the project, you will interpret how the general population fits apply to the customer data.\n",
    "\n",
    "- Don't forget when loading in the customers data, that it is semicolon (`;`) delimited.\n",
    "- Apply the same feature wrangling, selection, and engineering steps to the customer demographics using the `clean_data()` function you created earlier. (You can assume that the customer demographics data has similar meaning behind missing data patterns as the general demographics data.)\n",
    "- Use the sklearn objects from the general demographics data, and apply their transformations to the customers data. That is, you should not be using a `.fit()` or `.fit_transform()` method to re-fit the old objects, nor should you be creating new sklearn objects! Carry the data through the feature scaling, PCA, and clustering steps, obtaining cluster assignments for all of the data in the customer demographics data."
   ]
  },
  {
   "cell_type": "code",
   "execution_count": 60,
   "metadata": {},
   "outputs": [],
   "source": [
    "# Load in the customer demographics data.\n",
    "customers = pd.read_csv('Udacity_CUSTOMERS_Subset.csv', delimiter=';')"
   ]
  },
  {
   "cell_type": "code",
   "execution_count": null,
   "metadata": {},
   "outputs": [],
   "source": [
    "# Apply preprocessing, feature transformation, and clustering from the general\n",
    "# demographics onto the customer data, obtaining cluster predictions for the\n",
    "# customer demographics data.\n"
   ]
  },
  {
   "cell_type": "code",
   "execution_count": 61,
   "metadata": {},
   "outputs": [
    {
     "name": "stdout",
     "output_type": "stream",
     "text": [
      "df has 191652 rows and 85 columns\n",
      "\n",
      "#### step 1) converting missing values codes into NaNs\n",
      "\n",
      "finished encoding NaNs\n",
      "\n",
      "Data has 2252274 original NaN and 3112918 actual NaNs after coding missing_or_unknown values\n",
      "\n",
      "#### step 2) removing selected columns and rows\n",
      "\n",
      "finished removing selected columns and rows\n",
      "\n",
      "#### step 3) selecting, re-encoding, and engineering columns\n",
      "\n",
      "dropped 14 multi level columns\n",
      "\n",
      "re-encoded binary non-numeric column\n",
      "\n",
      "proceeding with 49 columns\n",
      "\n",
      "dataset currently has 53 columns\n",
      "\n",
      "dropped 5 columns from the dataset\n",
      "\n",
      "final df contains\n",
      "48 columns and 700781 rows\n"
     ]
    }
   ],
   "source": [
    "# preprocessing\n",
    "customers_clean = clean_data(customers)"
   ]
  },
  {
   "cell_type": "code",
   "execution_count": 77,
   "metadata": {},
   "outputs": [],
   "source": [
    "def feature_transformation_clustering(data):\n",
    "    # functionize  step 2: Feature Transformation\n",
    "\n",
    "    # apply feature scaling\n",
    "    imp = Imputer(strategy='most_frequent')\n",
    "    data_clean_imp = pd.DataFrame(imp.fit_transform(data))\n",
    "\n",
    "    # apply same cols and index to imp data \n",
    "    data_clean_imp.columns = data.columns\n",
    "    data_clean_imp.index = data.index\n",
    "\n",
    "    # Apply feature scaling to the general population demographics data.\n",
    "    scaler = StandardScaler() \n",
    "    data_clean_imp_scaled = scaler.fit_transform(data_clean_imp)\n",
    "\n",
    "    # convert np array to dataframe\n",
    "    data_clean_imp_scaled = pd.DataFrame(data_clean_imp_scaled, columns=list(data_clean_imp))\n",
    "\n",
    "    print(\"applied feature scaling\")\n",
    "\n",
    "    # transform data using currently defined PCA object\n",
    "    data_pca = pca.transform(data_clean_imp_scaled)\n",
    "    data_pca = pd.DataFrame(data_pca)\n",
    "\n",
    "    print(\"transformed data with currently defined pca object\")\n",
    "\n",
    "    # predict clustering using currently defined kmeans object\n",
    "    cluster_predictions = k_means_model.predict(data_pca)\n",
    "\n",
    "    print(\"predicted clusters with currently defined kmeans object\")\n",
    "\n",
    "    print(\"returning final dataframe and cluster predictions array\")\n",
    "    return data_pca, cluster_predictions\n",
    "\n"
   ]
  },
  {
   "cell_type": "code",
   "execution_count": 78,
   "metadata": {},
   "outputs": [
    {
     "name": "stdout",
     "output_type": "stream",
     "text": [
      "applied feature scaling\n",
      "transformed data with currently defined pca object\n",
      "predicted clusters with currently defined kmeans object\n",
      "returning final dataframe and cluster predictions array\n"
     ]
    }
   ],
   "source": [
    "customers_pca, customer_cluster_preds = feature_transformation_clustering(customers_clean)\n",
    "\n"
   ]
  },
  {
   "cell_type": "code",
   "execution_count": 89,
   "metadata": {},
   "outputs": [],
   "source": [
    "# customers_pca.head()\n",
    "# np.unique(customer_cluster_preds)"
   ]
  },
  {
   "cell_type": "code",
   "execution_count": null,
   "metadata": {},
   "outputs": [],
   "source": []
  },
  {
   "cell_type": "markdown",
   "metadata": {},
   "source": [
    "### Step 3.3: Compare Customer Data to Demographics Data\n",
    "\n",
    "At this point, you have clustered data based on demographics of the general population of Germany, and seen how the customer data for a mail-order sales company maps onto those demographic clusters. In this final substep, you will compare the two cluster distributions to see where the strongest customer base for the company is.\n",
    "\n",
    "Consider the proportion of persons in each cluster for the general population, and the proportions for the customers. If we think the company's customer base to be universal, then the cluster assignment proportions should be fairly similar between the two. If there are only particular segments of the population that are interested in the company's products, then we should see a mismatch from one to the other. If there is a higher proportion of persons in a cluster for the customer data compared to the general population (e.g. 5% of persons are assigned to a cluster for the general population, but 15% of the customer data is closest to that cluster's centroid) then that suggests the people in that cluster to be a target audience for the company. On the other hand, the proportion of the data in a cluster being larger in the general population than the customer data (e.g. only 2% of customers closest to a population centroid that captures 6% of the data) suggests that group of persons to be outside of the target demographics.\n",
    "\n",
    "Take a look at the following points in this step:\n",
    "\n",
    "- Compute the proportion of data points in each cluster for the general population and the customer data. Visualizations will be useful here: both for the individual dataset proportions, but also to visualize the ratios in cluster representation between groups. Seaborn's [`countplot()`](https://seaborn.pydata.org/generated/seaborn.countplot.html) or [`barplot()`](https://seaborn.pydata.org/generated/seaborn.barplot.html) function could be handy.\n",
    "  - Recall the analysis you performed in step 1.1.3 of the project, where you separated out certain data points from the dataset if they had more than a specified threshold of missing values. If you found that this group was qualitatively different from the main bulk of the data, you should treat this as an additional data cluster in this analysis. Make sure that you account for the number of data points in this subset, for both the general population and customer datasets, when making your computations!\n",
    "- Which cluster or clusters are overrepresented in the customer dataset compared to the general population? Select at least one such cluster and infer what kind of people might be represented by that cluster. Use the principal component interpretations from step 2.3 or look at additional components to help you make this inference. Alternatively, you can use the `.inverse_transform()` method of the PCA and StandardScaler objects to transform centroids back to the original data space and interpret the retrieved values directly.\n",
    "- Perform a similar investigation for the underrepresented clusters. Which cluster or clusters are underrepresented in the customer dataset compared to the general population, and what kinds of people are typified by these clusters?"
   ]
  },
  {
   "cell_type": "code",
   "execution_count": null,
   "metadata": {},
   "outputs": [],
   "source": []
  },
  {
   "cell_type": "code",
   "execution_count": 117,
   "metadata": {},
   "outputs": [
    {
     "data": {
      "text/plain": [
       "Text(0.5,1,'Customer Data Clusters')"
      ]
     },
     "execution_count": 117,
     "metadata": {},
     "output_type": "execute_result"
    },
    {
     "data": {
      "image/png": "[encoded data removed]",
      "text/plain": [
       "<matplotlib.figure.Figure at 0x7fe64f284ba8>"
      ]
     },
     "metadata": {
      "needs_background": "light"
     },
     "output_type": "display_data"
    }
   ],
   "source": [
    "# Compare the proportion of data in each cluster for the \n",
    "# customer data to the proportion of data in each cluster \n",
    "# for the general population.\n",
    "\n",
    "figure, axs = plt.subplots(nrows=1, ncols=2, figsize = (10, 5))\n",
    "plt.subplots_adjust(wspace=0.3)\n",
    "sns.countplot(azdias_pca_pred, ax=axs[0])\n",
    "axs[0].set_title(\"General Population Clusters\")\n",
    "sns.countplot(customer_cluster_preds, ax=axs[1])\n",
    "axs[1].set_title(\"Customer Data Clusters\")\n"
   ]
  },
  {
   "cell_type": "code",
   "execution_count": null,
   "metadata": {},
   "outputs": [],
   "source": [
    "# store medians for general population for comparision later\n",
    "median = azdias_clean.describe()\n",
    "median = avgs.loc['50%']"
   ]
  },
  {
   "cell_type": "code",
   "execution_count": 239,
   "metadata": {
    "scrolled": true
   },
   "outputs": [
    {
     "name": "stdout",
     "output_type": "stream",
     "text": [
      "                           overrep  general_median  overrep_perc_diff_abs\n",
      "OST_WEST_KZ               0.207990             0.0             207.990314\n",
      "GREEN_AVANTGARDE          0.128809             0.0             128.808913\n",
      "MOVEMENT                  0.128809             0.0             128.808913\n",
      "ANZ_HH_TITEL              0.035213             0.0              35.213375\n",
      "SOHO_KZ                   0.008290             0.0               8.290137\n",
      "ANZ_TITEL                 0.001816             0.0               1.816136\n",
      "ANZ_HAUSHALTE_AKTIV       8.457982             4.0               1.114217\n",
      "FINANZ_SPARER             4.102946             2.0               1.050948\n",
      "FINANZ_UNAUFFAELLIGER     3.777274             2.0               0.888193\n",
      "ANZ_PERSONEN              1.714538             1.0               0.713824\n",
      "SEMIO_RAT                 6.294261             4.0               0.573422\n",
      "SEMIO_PFLICHT             6.200347             4.0               0.549949\n",
      "SEMIO_VERT                2.370751             5.0               0.525745\n",
      "SEMIO_KAEM                5.879071             4.0               0.469650\n",
      "ALTERSKATEGORIE_GROB      1.607862             3.0               0.463891\n",
      "SEMIO_TRADV               5.847529             4.0               0.461767\n",
      "FINANZ_VORSORGER          2.219817             4.0               0.444935\n",
      "SEMIO_LUST                2.905729             5.0               0.418770\n",
      "DECADE                    5.667419             4.0               0.416751\n",
      "FINANZ_ANLEGER            4.248705             3.0               0.416096\n",
      "FINANZ_MINIMALIST         1.757642             3.0               0.413981\n",
      "RETOURTYP_BK_S            2.431067             4.0               0.392135\n",
      "SEMIO_REL                 5.321499             4.0               0.330292\n",
      "WEALTH                    2.592681             2.0               0.296192\n",
      "SEMIO_MAT                 5.126905             4.0               0.281656\n",
      "SEMIO_SOZ                 2.938180             4.0               0.265389\n",
      "SEMIO_DOM                 6.105436             5.0               0.221043\n",
      "BALLRAUM                  4.043867             5.0               0.191188\n",
      "WOHNDAUER_2008            7.371921             9.0               0.180878\n",
      "FINANZ_HAUSBAUER          3.481070             3.0               0.160303\n",
      "HEALTH_TYP                2.279841             2.0               0.139851\n",
      "KBA13_ANZAHL_PKW        625.630738           549.0               0.139582\n",
      "LIFE_STAGE                2.644160             3.0               0.118574\n",
      "INNENSTADT                4.414658             5.0               0.117045\n",
      "ONLINE_AFFINITAET         3.333255             3.0               0.111048\n",
      "ORTSGR_KLS9               5.465601             5.0               0.093102\n",
      "SEMIO_KRIT                5.461385             5.0               0.092259\n",
      "ARBEIT                    3.233625             3.0               0.077849\n",
      "GEBAEUDETYP_RASTER        3.695001             4.0               0.076231\n",
      "SEMIO_ERL                 4.225321             4.0               0.056316\n",
      "RELAT_AB                  3.135599             3.0               0.045184\n",
      "SEMIO_FAM                 3.844597             4.0               0.038841\n",
      "HH_EINKOMMEN_SCORE        4.815272             5.0               0.036938\n",
      "KONSUMNAEHE               2.912428             3.0               0.029181\n",
      "SEMIO_KULT                4.109785             4.0               0.027439\n",
      "EWDICHTE                  4.072642             4.0               0.018156\n",
      "ANREDE_KZ                 2.001896             2.0               0.000948\n",
      "MIN_GEBAEUDEJAHR       1993.303206          1992.0               0.000654\n"
     ]
    }
   ],
   "source": [
    "# What kinds of people are part of a cluster that is \n",
    "# overrepresented in the customer data compared to the \n",
    "# general population?\n",
    "\n",
    "# cluster 2 is overrepresented in customer data \n",
    "# return centroid to original data space \n",
    "\n",
    "# array of cluster centers for each principal component \n",
    "overrep = k_means_model.cluster_centers_[2]\n",
    "\n",
    "# inverse_transform() method of the PCA and StandardScaler objects\n",
    "overrep = pca.inverse_transform(overrep)\n",
    "overrep = scaler.inverse_transform(overrep)\n",
    "\n",
    "# convert array to series \n",
    "overrep = pd.Series(data = overrep, index = azdias_clean.columns)\n",
    "\n",
    "# create df w/general median values and compare\n",
    "overrep_median = pd.concat([overrep, median], axis=1)\n",
    "overrep_median.rename(columns={0:'overrep', '50%': 'general_median'}, \n",
    "                      inplace=True)\n",
    "overrep_median['overrep_perc_diff'] = (overrep_median['overrep']-overrep_median['general_median'])/(overrep_median['general_median']+0.001)\n",
    "overrep_median['overrep_perc_diff_abs'] = overrep_median['overrep_perc_diff'].abs()\n",
    "overrep_median.sort_values(by=['overrep_perc_diff_abs'], ascending=False, inplace=True)\n",
    "print(overrep_median[['overrep','general_median','overrep_perc_diff_abs']])\n"
   ]
  },
  {
   "cell_type": "code",
   "execution_count": 237,
   "metadata": {},
   "outputs": [
    {
     "name": "stdout",
     "output_type": "stream",
     "text": [
      "                          underrep  general_median  underrep_diff_perc_abs\n",
      "OST_WEST_KZ               0.279500             0.0              279.500319\n",
      "ANZ_HH_TITEL              0.088074             0.0               88.074456\n",
      "GREEN_AVANTGARDE          0.084808             0.0               84.808022\n",
      "MOVEMENT                  0.084808             0.0               84.808022\n",
      "SOHO_KZ                   0.007539             0.0                7.538907\n",
      "ANZ_TITEL                 0.003712             0.0                3.712302\n",
      "ANZ_HAUSHALTE_AKTIV      14.515690             4.0                2.628265\n",
      "SEMIO_ERL                 6.554291             4.0                0.638413\n",
      "SEMIO_KAEM                6.141986             4.0                0.535363\n",
      "SEMIO_KULT                1.886979             4.0                0.528123\n",
      "SEMIO_REL                 2.045273             4.0                0.488560\n",
      "SEMIO_FAM                 2.168113             4.0                0.457857\n",
      "SEMIO_VERT                2.752695             5.0                0.449371\n",
      "FINANZ_HAUSBAUER          4.304467             3.0                0.434678\n",
      "ONLINE_AFFINITAET         1.730779             3.0                0.422933\n",
      "ANZ_PERSONEN              1.387738             1.0                0.387351\n",
      "SEMIO_MAT                 2.456156             4.0                0.385865\n",
      "SEMIO_TRADV               2.459604             4.0                0.385003\n",
      "ORTSGR_KLS9               6.591371             5.0                0.318211\n",
      "BALLRAUM                  3.445416             5.0                0.310855\n",
      "INNENSTADT                3.580915             5.0                0.283760\n",
      "SEMIO_PFLICHT             2.928531             4.0                0.267800\n",
      "FINANZ_ANLEGER            2.240310             3.0                0.253146\n",
      "KONSUMNAEHE               2.275063             3.0                0.241565\n",
      "EWDICHTE                  4.963056             4.0                0.240704\n",
      "RELAT_AB                  3.694463             3.0                0.231411\n",
      "SEMIO_SOZ                 3.145514             4.0                0.213568\n",
      "ARBEIT                    3.630061             3.0                0.209950\n",
      "SEMIO_KRIT                6.031716             5.0                0.206302\n",
      "ALTERSKATEGORIE_GROB      3.546583             3.0                0.182134\n",
      "SEMIO_DOM                 5.841860             5.0                0.168338\n",
      "SEMIO_RAT                 3.385551             4.0                0.153574\n",
      "FINANZ_MINIMALIST         2.555001             3.0                0.148283\n",
      "DECADE                    3.433397             4.0                0.141615\n",
      "GEBAEUDETYP_RASTER        3.489794             4.0                0.127520\n",
      "LIFE_STAGE                2.657024             3.0                0.114287\n",
      "FINANZ_UNAUFFAELLIGER     1.794669             2.0                0.102614\n",
      "WOHNDAUER_2008            8.095295             9.0                0.100512\n",
      "HH_EINKOMMEN_SCORE        5.353884             5.0                0.070763\n",
      "FINANZ_VORSORGER          4.260170             4.0                0.065026\n",
      "SEMIO_LUST                5.322264             5.0                0.064440\n",
      "WEALTH                    1.882080             2.0                0.058930\n",
      "RETOURTYP_BK_S            4.229886             4.0                0.057457\n",
      "FINANZ_SPARER             1.896571             2.0                0.051689\n",
      "KBA13_ANZAHL_PKW        562.307324           549.0                0.024239\n",
      "ANREDE_KZ                 1.976161             2.0                0.011913\n",
      "HEALTH_TYP                1.997811             2.0                0.001094\n",
      "MIN_GEBAEUDEJAHR       1992.502753          1992.0                0.000252\n"
     ]
    }
   ],
   "source": [
    "# What kinds of people are part of a cluster that is \n",
    "# underrepresented in the customer data compared \n",
    "# to the general population?\n",
    "\n",
    "# cluster 1 is underrep in customer data \n",
    "# return centroid to original data space \n",
    "\n",
    "# array of cluster centers for each principal component \n",
    "underrep = k_means_model.cluster_centers_[1]\n",
    "\n",
    "# inverse_transform() method of the PCA and StandardScaler objects\n",
    "underrep = pca.inverse_transform(underrep)\n",
    "underrep = scaler.inverse_transform(underrep)\n",
    "\n",
    "# convert array to series \n",
    "underrep = pd.Series(data = underrep, index = azdias_clean.columns)\n",
    "\n",
    "# create series w/avg values for entire dataframe and compare against cluster \n",
    "\n",
    "# create df w/general median values and compare\n",
    "underrep_median = pd.concat([underrep, median], axis=1)\n",
    "underrep_median.rename(columns={0:'underrep', '50%': 'general_median'}, \n",
    "                      inplace=True)\n",
    "underrep_median['underrep_perc_diff'] = (underrep_median['underrep']-underrep_median['general_median'])/(underrep_median['general_median']+0.001)\n",
    "underrep_median['underrep_diff_perc_abs'] = underrep_median['underrep_perc_diff'].abs()\n",
    "underrep_median.sort_values(by=['underrep_diff_perc_abs'], ascending=False, inplace=True)\n",
    "print(underrep_median[['underrep','general_median','underrep_diff_perc_abs']])\n"
   ]
  },
  {
   "cell_type": "markdown",
   "metadata": {},
   "source": [
    "### Discussion 3.3: Compare Customer Data to Demographics Data\n",
    "\n",
    "I compared the general data median to the overrepresented and underrepresented values in effort to quantify the largest differences between the overrepresented and underrepresented clusters relative to the general population.  Note, certain columns (OST_WEST_KZ, GREEN_AVANTGARDE, MOVEMENT, ANZ_HH_TITEL, SOHO_KZ, ANZ_TITEL) have a very large difference, but these columns are binary, so for the sake of clustering, I'll ignore these fields because the difference between the actual differences between the general median and overrep and underrep values are not extremely large. \n",
    "\n",
    "Cluster 2 is overrepresented in the customer data. This cluster appears to be generally younger people, living in more crowded households and buildings (ALTERSKATEGORIE_GROB, ANZ_PERSONEN, ANZ_HAUSHALTE_AKTIV). These people are not money savers yet do not spend money conspicuously (FINANZ_SPARER, FINANZ_UNAUFFAELLIGER). On a personality dimension, these folks tend to be less rational, less dutiful, more dreamful, and less combative (SEMIO_RAT, SEMIO_PFLICHT, SEMIO_VERT, SEMIO_KAEM). In general, it seems as though these customers that are relatively popular with the mail order company are relatively lower income, perhaps living with friends and purchasing only goods that are relatively necessary for every day living. \n",
    "\n",
    " Cluster 1 is underrepresented in the customer data. People in this cluster also tend to be closer to urban and city centers with more households in the building (BALLRAUM, INNENSTADT, ANZ_HAUSHALTE_AKTIV). These people tend to be less event oriented, less combative, more cultural minded, more religious, more family oriented, more dreamful, and value home ownership less (SEMIO_ERL, SEMIO_KAEM, SEMIO_KULT, SEMIO_REL, SEMIO_FAM, SEMIO_VERT, FINANZ_HAUSBAUER). This group also has lower levels of online affinity than the general population (ONLINE_AFFINITAET). In general, it seems as though these customers that are relatively unpopular with the mail order company are relatively conservative, valuing religion and family and have less online presence than the average population. "
   ]
  },
  {
   "cell_type": "markdown",
   "metadata": {},
   "source": [
    "> Congratulations on making it this far in the project! Before you finish, make sure to check through the entire notebook from top to bottom to make sure that your analysis follows a logical flow and all of your findings are documented in **Discussion** cells. Once you've checked over all of your work, you should export the notebook as an HTML document to submit for evaluation. You can do this from the menu, navigating to **File -> Download as -> HTML (.html)**. You will submit both that document and this notebook for your project submission."
   ]
  },
  {
   "cell_type": "code",
   "execution_count": null,
   "metadata": {},
   "outputs": [],
   "source": []
  }
 ],
 "metadata": {
  "kernelspec": {
   "display_name": "Python 3",
   "language": "python",
   "name": "python3"
  },
  "language_info": {
   "codemirror_mode": {
    "name": "ipython",
    "version": 3
   },
   "file_extension": ".py",
   "mimetype": "text/x-python",
   "name": "python",
   "nbconvert_exporter": "python",
   "pygments_lexer": "ipython3",
   "version": "3.7.1"
  }
 },
 "nbformat": 4,
 "nbformat_minor": 2
}
